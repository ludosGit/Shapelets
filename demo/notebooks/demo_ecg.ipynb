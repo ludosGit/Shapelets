{
 "cells": [
  {
   "cell_type": "markdown",
   "metadata": {},
   "source": [
    "# ECG DATASET"
   ]
  },
  {
   "cell_type": "markdown",
   "metadata": {},
   "source": [
    "Demo for Beggel's ADSL algorithm implementation in pytorch "
   ]
  },
  {
   "cell_type": "code",
   "execution_count": 1,
   "metadata": {},
   "outputs": [
    {
     "name": "stderr",
     "output_type": "stream",
     "text": [
      "/opt/anaconda3/envs/ludo_env/lib/python3.6/site-packages/tqdm/auto.py:22: TqdmWarning: IProgress not found. Please update jupyter and ipywidgets. See https://ipywidgets.readthedocs.io/en/stable/user_install.html\n",
      "  from .autonotebook import tqdm as notebook_tqdm\n"
     ]
    }
   ],
   "source": [
    "import pandas as pd\n",
    "\n",
    "import os \n",
    "os.chdir('/home/ludovicobartoli/Documents/Shapelets')\n",
    "\n",
    "import numpy as np\n",
    "import random\n",
    "import torch\n",
    "from torch import tensor\n",
    "\n",
    "from tslearn.datasets import CachedDatasets, UCR_UEA_datasets\n",
    "from tslearn.clustering import TimeSeriesKMeans\n",
    "from tslearn.preprocessing import TimeSeriesScalerMinMax, TimeSeriesScalerMeanVariance\n",
    "\n",
    "from src.preprocessing_anomaly import preprocessing_anomaly\n",
    "from src.SVDD.SVDD import SVDD\n",
    "from src.util import Scaler, euclidean_distance_shifted, length_normalized_distance, max_corr, get_weights_via_kmeans, mean_shift\n",
    "from src.learning.learningextractor import LearningShapelets \n",
    "from src.learning.similarityloss import DiscrepancySimilarity, CorrelationSimilairty\n",
    "from src.searching.bruteforce_multivariate import Bruteforce_extractor_mv, Candidateset\n",
    "from src.searching.RLS import RLS_extractor, RLS_candidateset\n",
    "\n",
    "from sklearn.metrics import balanced_accuracy_score, roc_auc_score, f1_score\n",
    "from sklearn.preprocessing import MinMaxScaler, StandardScaler, LabelEncoder\n",
    "from sklearn.metrics import confusion_matrix\n",
    "from sklearn.metrics import ConfusionMatrixDisplay\n",
    "from sklearn.metrics import roc_curve, auc\n",
    "from sklearn.svm import OneClassSVM\n",
    "\n",
    "import matplotlib.pyplot as plt\n",
    "plt.rcParams[\"font.weight\"] = \"bold\"\n",
    "plt.rcParams[\"axes.labelweight\"] = \"bold\"\n"
   ]
  },
  {
   "cell_type": "markdown",
   "metadata": {},
   "source": [
    "## Set up the dataset"
   ]
  },
  {
   "cell_type": "markdown",
   "metadata": {},
   "source": [
    "### Read the data"
   ]
  },
  {
   "cell_type": "code",
   "execution_count": 2,
   "metadata": {},
   "outputs": [
    {
     "name": "stdout",
     "output_type": "stream",
     "text": [
      "Data shape (4998, 141)\n",
      "Number of total samples in each class: [2079, 2919]\n"
     ]
    }
   ],
   "source": [
    "dataframe = pd.read_csv('demo/data/ecg.csv', header=None)\n",
    "raw_data = dataframe.values\n",
    "X_train = dataframe.to_numpy()\n",
    "print('Data shape', X_train.shape)\n",
    "y_train = np.array(X_train[:,140], dtype='int')\n",
    "X_train = np.delete(X_train, obj=140, axis=1)\n",
    "N, Q = X_train.shape\n",
    "X_train = X_train.reshape((N,Q,1))\n",
    "\n",
    "len(y_train[y_train==0])\n",
    "obs_perclass = [len(y_train[y_train==i]) for i in set(y_train)]\n",
    "print(f'Number of total samples in each class: {obs_perclass}')\n",
    "n_class = len(obs_perclass)"
   ]
  },
  {
   "cell_type": "markdown",
   "metadata": {},
   "source": [
    "### Preprocessing"
   ]
  },
  {
   "cell_type": "markdown",
   "metadata": {},
   "source": [
    "Plot one sample per class:"
   ]
  },
  {
   "cell_type": "code",
   "execution_count": 3,
   "metadata": {},
   "outputs": [
    {
     "data": {
      "image/png": "[encoded data removed]",
      "text/plain": [
       "<Figure size 432x288 with 2 Axes>"
      ]
     },
     "metadata": {
      "needs_background": "light"
     },
     "output_type": "display_data"
    }
   ],
   "source": [
    "fig, ax = plt.subplots(n_class,)\n",
    "\n",
    "ts = X_train[y_train==1][1,:,0]\n",
    "ax[0].set_title(f'Ecg Class {1}', fontsize=10, fontweight=\"bold\")\n",
    "ax[0].plot(ts, color='tab:blue')\n",
    "ts = X_train[y_train==0][1,:,0]\n",
    "ax[1].set_title(f'Ecg Class {-1}', fontsize=10, fontweight=\"bold\")\n",
    "ax[1].plot(ts, color='tab:orange')\n",
    "plt.subplots_adjust(hspace=1)\n",
    "plt.show()"
   ]
  },
  {
   "cell_type": "markdown",
   "metadata": {},
   "source": [
    "#### Create anomaly detection dataset:"
   ]
  },
  {
   "cell_type": "code",
   "execution_count": 4,
   "metadata": {},
   "outputs": [],
   "source": [
    "np.random.seed(0)\n",
    "alpha=0.01\n",
    "normal_class = 1\n",
    "normal_prop = 0.7\n",
    "valid_prop = 0.3\n",
    "X_train_anomaly, y_train_anomaly, X_test_anomaly, y_test_anomaly, X_valid_anomaly, y_valid_anomaly = preprocessing_anomaly(X_train, y_train, alpha=alpha, normal_class=normal_class, normal_prop=normal_prop, valid_prop=valid_prop)\n"
   ]
  },
  {
   "cell_type": "markdown",
   "metadata": {},
   "source": [
    "Get statistics of the anomaly detection dataset:"
   ]
  },
  {
   "cell_type": "code",
   "execution_count": 5,
   "metadata": {},
   "outputs": [
    {
     "name": "stdout",
     "output_type": "stream",
     "text": [
      "Ecg dataset\n",
      "number train ts is 2063, each of length 140\n",
      "They belong to two possible classes: {1, -1}\n",
      "number test ts 2055\n",
      "number of normal train series: 2043\n",
      "number of anomalous train series: 20\n",
      "number of normal valid series: 276\n",
      "number of anomalous valid series: 604\n",
      "number of normal test series: 600\n",
      "number of anomalous test series: 1455\n"
     ]
    }
   ],
   "source": [
    "N, Q,_ = X_train_anomaly.shape\n",
    "print('Ecg dataset')\n",
    "print(f'number train ts is {N}, each of length {Q}')\n",
    "print(f'They belong to two possible classes: {set(y_train_anomaly)}')\n",
    "print('number test ts', len(X_test_anomaly))\n",
    "print('number of normal train series:', len(y_train_anomaly[y_train_anomaly==1]))\n",
    "print('number of anomalous train series:', len(y_train_anomaly[y_train_anomaly==-1]))\n",
    "print('number of normal valid series:', len(y_valid_anomaly[y_valid_anomaly==1]))\n",
    "print('number of anomalous valid series:', len(y_valid_anomaly[y_valid_anomaly==-1]))\n",
    "print('number of normal test series:', len(y_test_anomaly[y_test_anomaly==1]))\n",
    "print('number of anomalous test series:', len(y_test_anomaly[y_test_anomaly==-1]))"
   ]
  },
  {
   "cell_type": "markdown",
   "metadata": {},
   "source": [
    "#### Normalize:"
   ]
  },
  {
   "cell_type": "code",
   "execution_count": 6,
   "metadata": {},
   "outputs": [],
   "source": [
    "# normalize the time series\n",
    "# as in the tutorial https://tslearn.readthedocs.io/en/stable/auto_examples/classification/plot_shapelets.html#sphx-glr-auto-examples-classification-plot-shapelets-py\n",
    "scaler = TimeSeriesScalerMinMax()\n",
    "X_train_anomaly = scaler.fit_transform(X_train_anomaly)\n",
    "X_test_anomaly = scaler.fit_transform(X_test_anomaly)\n",
    "X_valid_anomaly = scaler.fit_transform(X_valid_anomaly)"
   ]
  },
  {
   "cell_type": "code",
   "execution_count": 7,
   "metadata": {},
   "outputs": [],
   "source": [
    "# normalizer = Normalizer(scaler=StandardScaler())\n",
    "# X_train_anomaly = normalizer.fit_normalize(X_train_anomaly)\n",
    "# X_test_anomaly = normalizer.normalize(X_test_anomaly)"
   ]
  },
  {
   "cell_type": "markdown",
   "metadata": {},
   "source": [
    "#### Plot train set"
   ]
  },
  {
   "cell_type": "code",
   "execution_count": 8,
   "metadata": {},
   "outputs": [
    {
     "data": {
      "image/png": "[encoded data removed]",
      "text/plain": [
       "<Figure size 720x360 with 1 Axes>"
      ]
     },
     "metadata": {
      "needs_background": "light"
     },
     "output_type": "display_data"
    }
   ],
   "source": [
    "plt.figure(figsize=(10, 5))\n",
    "for i in range(len(X_train_anomaly[y_train_anomaly==1][:,:,0])):\n",
    "    ts = X_train_anomaly[y_train_anomaly==1][i,:,0]\n",
    "    plt.plot(range(len(ts)), ts, c='tab:blue', label='normal' if i==0 else None)\n",
    "for i in range(len(X_train_anomaly[y_train_anomaly==-1][:,:,0])):\n",
    "    ts = X_train_anomaly[y_train_anomaly==-1][i,:,0]\n",
    "    plt.plot(range(len(ts)), ts, c='tab:orange', label='anomaly' if i==0 else None)\n",
    "plt.legend()\n",
    "plt.title('The time series in the train set', fontweight=\"bold\")\n",
    "plt.show()\n"
   ]
  },
  {
   "cell_type": "markdown",
   "metadata": {},
   "source": [
    "## Train the model:"
   ]
  },
  {
   "cell_type": "markdown",
   "metadata": {},
   "source": [
    "Implementation of Beggel's \"Anomaly Detection algorithm with Shapelet-based Feature Learning\" (ADSL).\n",
    "K Shapelets of length L are parametrized; given the shapelet transform of a multivariate time series $t^i$ with C channels:\n",
    "\\begin{equation}\n",
    "x^i = (x^i_1, \\dots, x^i_K), \\enspace x^i_k = min_{l=1,\\dots, J} \\left\\lVert s^k  - t^i_{l, l+L}\\right\\rVert^2\n",
    "\\end{equation}\n",
    "\n",
    "Define $l(x^i) = \\sum_{k=1}^K (x^i_k)^2$ the norm of the transform vector in $R^K$\n",
    "\n",
    "Given a batch of N time series, the loss to minimize is:\n",
    "\\begin{equation}\n",
    "L_S(t^1,\\dots,t^N) = \\frac{1}{N} (\\sum_{i=1}^N max(0, l(x^i) - R^2) C +  \\sum_{i=1}^N l(x^i))\n",
    "\\end{equation}\n",
    "where R is the radius of the last update of the SVDD boundary, C is the hyperparameter of the SVDD."
   ]
  },
  {
   "cell_type": "markdown",
   "metadata": {},
   "source": [
    "#### K-Means Inizialization "
   ]
  },
  {
   "cell_type": "code",
   "execution_count": 9,
   "metadata": {},
   "outputs": [
    {
     "data": {
      "image/png": "[encoded data removed]",
      "text/plain": [
       "<Figure size 432x288 with 1 Axes>"
      ]
     },
     "metadata": {
      "needs_background": "light"
     },
     "output_type": "display_data"
    },
    {
     "name": "stdout",
     "output_type": "stream",
     "text": [
      "The shape of cluster centers is torch.Size([3, 1, 35])\n"
     ]
    }
   ],
   "source": [
    "K_star =  0.02\n",
    "L_star = 0.25\n",
    "L = round(L_star*Q)\n",
    "K = round(K_star*Q)\n",
    "n_segments = N*(Q-K+1)\n",
    "# clusters_centers = get_weights_via_kmeans(X_train_anomaly, len_shapelets=L, num_shapelets=K, n_segments=n_segments)\n",
    "clusters_centers = np.load(f'demo/data/ecg_clusters_K={K}_L={L}.npy')\n",
    "\n",
    "# np.save(f'demo/data/ecg_clusters_K={K}_L={L}', clusters_centers)\n",
    "\n",
    "# plot the mean-shifted clusters' centers\n",
    "S_init = clusters_centers - np.mean(clusters_centers, axis=1, keepdims=True)\n",
    "\n",
    "plt.figure()\n",
    "for i in range(len(S_init)):\n",
    "    shap = S_init[i,:,]\n",
    "    plt.plot(shap, label=f'shapelet{i+1}')\n",
    "plt.legend()\n",
    "plt.title('Ecg clusters centers', fontweight=\"bold\")\n",
    "plt.show()\n",
    "\n",
    "dtype = torch.double\n",
    "clusters_centers = torch.tensor(clusters_centers.transpose(0,2,1), dtype=dtype)\n",
    "clusters_centers = clusters_centers - torch.mean(clusters_centers, dim=2, keepdim=True)\n",
    "\n",
    "print(f'The shape of cluster centers is {clusters_centers.shape}') "
   ]
  },
  {
   "cell_type": "markdown",
   "metadata": {},
   "source": [
    "### TRAINING"
   ]
  },
  {
   "cell_type": "code",
   "execution_count": 17,
   "metadata": {},
   "outputs": [
    {
     "name": "stdout",
     "output_type": "stream",
     "text": [
      "Cuda available? True\n",
      "Epoch: 0\n",
      "radius 0.29866675688668076\n"
     ]
    },
    {
     "name": "stderr",
     "output_type": "stream",
     "text": [
      "Loss dist: 0.41872450369617265: 100%|██████████| 1/1 [00:00<00:00, 52.09it/s]"
     ]
    },
    {
     "name": "stdout",
     "output_type": "stream",
     "text": [
      "Loss sim: [0.48870679289339064]\n",
      "Epoch: 1\n"
     ]
    },
    {
     "name": "stderr",
     "output_type": "stream",
     "text": [
      "\n"
     ]
    },
    {
     "name": "stdout",
     "output_type": "stream",
     "text": [
      "radius 0.2446275468673696\n"
     ]
    },
    {
     "name": "stderr",
     "output_type": "stream",
     "text": [
      "Loss dist: 0.3083539466454813: 100%|██████████| 1/1 [00:00<00:00, 43.16it/s]"
     ]
    },
    {
     "name": "stdout",
     "output_type": "stream",
     "text": [
      "Loss sim: [0.48866299912815103]\n",
      "Epoch: 2\n"
     ]
    },
    {
     "name": "stderr",
     "output_type": "stream",
     "text": [
      "\n"
     ]
    },
    {
     "name": "stdout",
     "output_type": "stream",
     "text": [
      "radius 0.24290326267676207\n"
     ]
    },
    {
     "name": "stderr",
     "output_type": "stream",
     "text": [
      "Loss dist: 0.2855949852849064: 100%|██████████| 1/1 [00:00<00:00, 43.02it/s]"
     ]
    },
    {
     "name": "stdout",
     "output_type": "stream",
     "text": [
      "Loss sim: [0.48768004742613985]\n",
      "Epoch: 3\n"
     ]
    },
    {
     "name": "stderr",
     "output_type": "stream",
     "text": [
      "\n"
     ]
    },
    {
     "name": "stdout",
     "output_type": "stream",
     "text": [
      "radius 0.2544840315701567\n"
     ]
    },
    {
     "name": "stderr",
     "output_type": "stream",
     "text": [
      "Loss dist: 0.3159337525355341: 100%|██████████| 1/1 [00:00<00:00, 48.92it/s]"
     ]
    },
    {
     "name": "stdout",
     "output_type": "stream",
     "text": [
      "Loss sim: [0.48486281437303086]\n",
      "Epoch: 4\n"
     ]
    },
    {
     "name": "stderr",
     "output_type": "stream",
     "text": [
      "\n"
     ]
    },
    {
     "name": "stdout",
     "output_type": "stream",
     "text": [
      "radius 0.28833199513363317\n"
     ]
    },
    {
     "name": "stderr",
     "output_type": "stream",
     "text": [
      "Loss dist: 0.3180356245302954: 100%|██████████| 1/1 [00:00<00:00, 44.08it/s]"
     ]
    },
    {
     "name": "stdout",
     "output_type": "stream",
     "text": [
      "Loss sim: [0.48057957248449884]\n",
      "Epoch: 5\n"
     ]
    },
    {
     "name": "stderr",
     "output_type": "stream",
     "text": [
      "\n"
     ]
    },
    {
     "name": "stdout",
     "output_type": "stream",
     "text": [
      "radius 0.2836170469722572\n"
     ]
    },
    {
     "name": "stderr",
     "output_type": "stream",
     "text": [
      "Loss dist: 0.31661761366164687: 100%|██████████| 1/1 [00:00<00:00, 48.29it/s]"
     ]
    },
    {
     "name": "stdout",
     "output_type": "stream",
     "text": [
      "Loss sim: [0.4796203231835222]\n",
      "Epoch: 6\n"
     ]
    },
    {
     "name": "stderr",
     "output_type": "stream",
     "text": [
      "\n"
     ]
    },
    {
     "name": "stdout",
     "output_type": "stream",
     "text": [
      "radius 0.24126529390063525\n"
     ]
    },
    {
     "name": "stderr",
     "output_type": "stream",
     "text": [
      "Loss dist: 0.2817546825258923: 100%|██████████| 1/1 [00:00<00:00, 49.18it/s]"
     ]
    },
    {
     "name": "stdout",
     "output_type": "stream",
     "text": [
      "Loss sim: [0.4873610544828844]\n",
      "Epoch: 7\n"
     ]
    },
    {
     "name": "stderr",
     "output_type": "stream",
     "text": [
      "\n"
     ]
    },
    {
     "name": "stdout",
     "output_type": "stream",
     "text": [
      "radius 0.22934585547555408\n"
     ]
    },
    {
     "name": "stderr",
     "output_type": "stream",
     "text": [
      "Loss dist: 0.2845130105342783: 100%|██████████| 1/1 [00:00<00:00, 55.92it/s]"
     ]
    },
    {
     "name": "stdout",
     "output_type": "stream",
     "text": [
      "Loss sim: [0.4940533224517504]\n",
      "Epoch: 8\n"
     ]
    },
    {
     "name": "stderr",
     "output_type": "stream",
     "text": [
      "\n"
     ]
    },
    {
     "name": "stdout",
     "output_type": "stream",
     "text": [
      "radius 0.23427906610951227\n"
     ]
    },
    {
     "name": "stderr",
     "output_type": "stream",
     "text": [
      "Loss dist: 0.30038637615215796: 100%|██████████| 1/1 [00:00<00:00, 48.32it/s]"
     ]
    },
    {
     "name": "stdout",
     "output_type": "stream",
     "text": [
      "Loss sim: [0.4950403505392808]\n",
      "Epoch: 9\n"
     ]
    },
    {
     "name": "stderr",
     "output_type": "stream",
     "text": [
      "\n"
     ]
    },
    {
     "name": "stdout",
     "output_type": "stream",
     "text": [
      "radius 0.23249222537204486\n"
     ]
    },
    {
     "name": "stderr",
     "output_type": "stream",
     "text": [
      "Loss dist: 0.3086846049936881: 100%|██████████| 1/1 [00:00<00:00, 45.43it/s]"
     ]
    },
    {
     "name": "stdout",
     "output_type": "stream",
     "text": [
      "Loss sim: [0.49336407530506143]\n",
      "Epoch: 10\n"
     ]
    },
    {
     "name": "stderr",
     "output_type": "stream",
     "text": [
      "\n"
     ]
    },
    {
     "name": "stdout",
     "output_type": "stream",
     "text": [
      "radius 0.22137955313000626\n"
     ]
    },
    {
     "name": "stderr",
     "output_type": "stream",
     "text": [
      "Loss dist: 0.2867188460589142: 100%|██████████| 1/1 [00:00<00:00, 71.62it/s]"
     ]
    },
    {
     "name": "stdout",
     "output_type": "stream",
     "text": [
      "Loss sim: [0.49411900447975476]\n",
      "Epoch: 11\n"
     ]
    },
    {
     "name": "stderr",
     "output_type": "stream",
     "text": [
      "\n"
     ]
    },
    {
     "name": "stdout",
     "output_type": "stream",
     "text": [
      "radius 0.21269648505523264\n"
     ]
    },
    {
     "name": "stderr",
     "output_type": "stream",
     "text": [
      "Loss dist: 0.26830196372665127: 100%|██████████| 1/1 [00:00<00:00,  7.76it/s]"
     ]
    },
    {
     "name": "stdout",
     "output_type": "stream",
     "text": [
      "Loss sim: [0.4948611314635403]\n",
      "Epoch: 12\n"
     ]
    },
    {
     "name": "stderr",
     "output_type": "stream",
     "text": [
      "\n"
     ]
    },
    {
     "name": "stdout",
     "output_type": "stream",
     "text": [
      "radius 0.22237523953995122\n"
     ]
    },
    {
     "name": "stderr",
     "output_type": "stream",
     "text": [
      "Loss dist: 0.2695696308875122: 100%|██████████| 1/1 [00:00<00:00, 45.21it/s]"
     ]
    },
    {
     "name": "stdout",
     "output_type": "stream",
     "text": [
      "Loss sim: [0.49396457562715157]\n",
      "Epoch: 13\n"
     ]
    },
    {
     "name": "stderr",
     "output_type": "stream",
     "text": [
      "\n"
     ]
    },
    {
     "name": "stdout",
     "output_type": "stream",
     "text": [
      "radius 0.22907129524617498\n"
     ]
    },
    {
     "name": "stderr",
     "output_type": "stream",
     "text": [
      "Loss dist: 0.2675778529055447: 100%|██████████| 1/1 [00:00<00:00, 53.19it/s]"
     ]
    },
    {
     "name": "stdout",
     "output_type": "stream",
     "text": [
      "Loss sim: [0.4945004013838438]\n",
      "Epoch: 14\n"
     ]
    },
    {
     "name": "stderr",
     "output_type": "stream",
     "text": [
      "\n"
     ]
    },
    {
     "name": "stdout",
     "output_type": "stream",
     "text": [
      "radius 0.2169543944231766\n"
     ]
    },
    {
     "name": "stderr",
     "output_type": "stream",
     "text": [
      "Loss dist: 0.25398191687195776: 100%|██████████| 1/1 [00:00<00:00, 48.85it/s]"
     ]
    },
    {
     "name": "stdout",
     "output_type": "stream",
     "text": [
      "Loss sim: [0.49562938058257466]\n",
      "Epoch: 15\n"
     ]
    },
    {
     "name": "stderr",
     "output_type": "stream",
     "text": [
      "\n"
     ]
    },
    {
     "name": "stdout",
     "output_type": "stream",
     "text": [
      "radius 0.206895503655081\n"
     ]
    },
    {
     "name": "stderr",
     "output_type": "stream",
     "text": [
      "Loss dist: 0.2520910030149136: 100%|██████████| 1/1 [00:00<00:00, 48.49it/s]"
     ]
    },
    {
     "name": "stdout",
     "output_type": "stream",
     "text": [
      "Loss sim: [0.4968247414015996]\n",
      "Epoch: 16\n"
     ]
    },
    {
     "name": "stderr",
     "output_type": "stream",
     "text": [
      "\n"
     ]
    },
    {
     "name": "stdout",
     "output_type": "stream",
     "text": [
      "radius 0.20045305728129623\n"
     ]
    },
    {
     "name": "stderr",
     "output_type": "stream",
     "text": [
      "Loss dist: 0.2444411630443849: 100%|██████████| 1/1 [00:00<00:00, 47.61it/s]"
     ]
    },
    {
     "name": "stdout",
     "output_type": "stream",
     "text": [
      "Loss sim: [0.49888349612340577]\n",
      "Epoch: 17\n"
     ]
    },
    {
     "name": "stderr",
     "output_type": "stream",
     "text": [
      "\n"
     ]
    },
    {
     "name": "stdout",
     "output_type": "stream",
     "text": [
      "radius 0.2043864989342866\n"
     ]
    },
    {
     "name": "stderr",
     "output_type": "stream",
     "text": [
      "Loss dist: 0.24700013628635026: 100%|██████████| 1/1 [00:00<00:00, 43.60it/s]"
     ]
    },
    {
     "name": "stdout",
     "output_type": "stream",
     "text": [
      "Loss sim: [0.49789526563549175]\n",
      "Epoch: 18\n"
     ]
    },
    {
     "name": "stderr",
     "output_type": "stream",
     "text": [
      "\n"
     ]
    },
    {
     "name": "stdout",
     "output_type": "stream",
     "text": [
      "radius 0.20937635993043408\n"
     ]
    },
    {
     "name": "stderr",
     "output_type": "stream",
     "text": [
      "Loss dist: 0.2460183120823794: 100%|██████████| 1/1 [00:00<00:00, 48.81it/s]"
     ]
    },
    {
     "name": "stdout",
     "output_type": "stream",
     "text": [
      "Loss sim: [0.49783208490330394]\n",
      "Epoch: 19\n"
     ]
    },
    {
     "name": "stderr",
     "output_type": "stream",
     "text": [
      "\n"
     ]
    },
    {
     "name": "stdout",
     "output_type": "stream",
     "text": [
      "radius 0.20460563312704275\n"
     ]
    },
    {
     "name": "stderr",
     "output_type": "stream",
     "text": [
      "Loss dist: 0.23645325808325474: 100%|██████████| 1/1 [00:00<00:00, 46.13it/s]"
     ]
    },
    {
     "name": "stdout",
     "output_type": "stream",
     "text": [
      "Loss sim: [0.49843293352690643]\n",
      "Epoch: 20\n"
     ]
    },
    {
     "name": "stderr",
     "output_type": "stream",
     "text": [
      "\n"
     ]
    },
    {
     "name": "stdout",
     "output_type": "stream",
     "text": [
      "radius 0.20480890605497504\n"
     ]
    },
    {
     "name": "stderr",
     "output_type": "stream",
     "text": [
      "Loss dist: 0.24017751251724562: 100%|██████████| 1/1 [00:00<00:00, 47.17it/s]"
     ]
    },
    {
     "name": "stdout",
     "output_type": "stream",
     "text": [
      "Loss sim: [0.4974717171257069]\n",
      "Epoch: 21\n"
     ]
    },
    {
     "name": "stderr",
     "output_type": "stream",
     "text": [
      "\n"
     ]
    },
    {
     "name": "stdout",
     "output_type": "stream",
     "text": [
      "radius 0.20480446396770222\n"
     ]
    },
    {
     "name": "stderr",
     "output_type": "stream",
     "text": [
      "Loss dist: 0.24251356163936896: 100%|██████████| 1/1 [00:00<00:00, 47.60it/s]"
     ]
    },
    {
     "name": "stdout",
     "output_type": "stream",
     "text": [
      "Loss sim: [0.4975037720599453]\n",
      "Epoch: 22\n"
     ]
    },
    {
     "name": "stderr",
     "output_type": "stream",
     "text": [
      "\n"
     ]
    },
    {
     "name": "stdout",
     "output_type": "stream",
     "text": [
      "radius 0.20182890251817423\n"
     ]
    },
    {
     "name": "stderr",
     "output_type": "stream",
     "text": [
      "Loss dist: 0.2298905797521503: 100%|██████████| 1/1 [00:00<00:00, 48.49it/s]"
     ]
    },
    {
     "name": "stdout",
     "output_type": "stream",
     "text": [
      "Loss sim: [0.49807845830654696]\n",
      "Epoch: 23\n"
     ]
    },
    {
     "name": "stderr",
     "output_type": "stream",
     "text": [
      "\n"
     ]
    },
    {
     "name": "stdout",
     "output_type": "stream",
     "text": [
      "radius 0.20494737374919533\n"
     ]
    },
    {
     "name": "stderr",
     "output_type": "stream",
     "text": [
      "Loss dist: 0.23596716124051087: 100%|██████████| 1/1 [00:00<00:00, 47.81it/s]"
     ]
    },
    {
     "name": "stdout",
     "output_type": "stream",
     "text": [
      "Loss sim: [0.49799457857197627]\n",
      "Epoch: 24\n"
     ]
    },
    {
     "name": "stderr",
     "output_type": "stream",
     "text": [
      "\n"
     ]
    },
    {
     "name": "stdout",
     "output_type": "stream",
     "text": [
      "radius 0.20133971192791006\n"
     ]
    },
    {
     "name": "stderr",
     "output_type": "stream",
     "text": [
      "Loss dist: 0.22959940634336928: 100%|██████████| 1/1 [00:00<00:00, 45.28it/s]"
     ]
    },
    {
     "name": "stdout",
     "output_type": "stream",
     "text": [
      "Loss sim: [0.49872927241781884]\n",
      "Epoch: 25\n"
     ]
    },
    {
     "name": "stderr",
     "output_type": "stream",
     "text": [
      "\n"
     ]
    },
    {
     "name": "stdout",
     "output_type": "stream",
     "text": [
      "radius 0.19850490876503182\n"
     ]
    },
    {
     "name": "stderr",
     "output_type": "stream",
     "text": [
      "Loss dist: 0.22514492344267972: 100%|██████████| 1/1 [00:00<00:00, 44.89it/s]"
     ]
    },
    {
     "name": "stdout",
     "output_type": "stream",
     "text": [
      "Loss sim: [0.49906135457971196]\n",
      "Epoch: 26\n"
     ]
    },
    {
     "name": "stderr",
     "output_type": "stream",
     "text": [
      "\n"
     ]
    },
    {
     "name": "stdout",
     "output_type": "stream",
     "text": [
      "radius 0.19856122600745066\n"
     ]
    },
    {
     "name": "stderr",
     "output_type": "stream",
     "text": [
      "Loss dist: 0.22834361828778682: 100%|██████████| 1/1 [00:00<00:00, 48.23it/s]"
     ]
    },
    {
     "name": "stdout",
     "output_type": "stream",
     "text": [
      "Loss sim: [0.49934646147438466]\n",
      "Epoch: 27\n"
     ]
    },
    {
     "name": "stderr",
     "output_type": "stream",
     "text": [
      "\n"
     ]
    },
    {
     "name": "stdout",
     "output_type": "stream",
     "text": [
      "radius 0.1977077312796609\n"
     ]
    },
    {
     "name": "stderr",
     "output_type": "stream",
     "text": [
      "Loss dist: 0.22170824034127656: 100%|██████████| 1/1 [00:00<00:00, 47.39it/s]"
     ]
    },
    {
     "name": "stdout",
     "output_type": "stream",
     "text": [
      "Loss sim: [0.4993231736391949]\n",
      "Epoch: 28\n"
     ]
    },
    {
     "name": "stderr",
     "output_type": "stream",
     "text": [
      "\n"
     ]
    },
    {
     "name": "stdout",
     "output_type": "stream",
     "text": [
      "radius 0.20536091386253874\n"
     ]
    },
    {
     "name": "stderr",
     "output_type": "stream",
     "text": [
      "Loss dist: 0.2247242308522639: 100%|██████████| 1/1 [00:00<00:00, 51.09it/s]"
     ]
    },
    {
     "name": "stdout",
     "output_type": "stream",
     "text": [
      "Loss sim: [0.49897076159084613]\n",
      "Epoch: 29\n"
     ]
    },
    {
     "name": "stderr",
     "output_type": "stream",
     "text": [
      "\n"
     ]
    },
    {
     "name": "stdout",
     "output_type": "stream",
     "text": [
      "radius 0.2012902936865591\n"
     ]
    },
    {
     "name": "stderr",
     "output_type": "stream",
     "text": [
      "Loss dist: 0.22024884940425488: 100%|██████████| 1/1 [00:00<00:00, 43.71it/s]"
     ]
    },
    {
     "name": "stdout",
     "output_type": "stream",
     "text": [
      "Loss sim: [0.498960193981533]\n",
      "Epoch: 30\n"
     ]
    },
    {
     "name": "stderr",
     "output_type": "stream",
     "text": [
      "\n"
     ]
    },
    {
     "name": "stdout",
     "output_type": "stream",
     "text": [
      "radius 0.19755489259815506\n"
     ]
    },
    {
     "name": "stderr",
     "output_type": "stream",
     "text": [
      "Loss dist: 0.22462229948898982: 100%|██████████| 1/1 [00:00<00:00, 50.53it/s]"
     ]
    },
    {
     "name": "stdout",
     "output_type": "stream",
     "text": [
      "Loss sim: [0.49884504072103586]\n",
      "Epoch: 31\n"
     ]
    },
    {
     "name": "stderr",
     "output_type": "stream",
     "text": [
      "\n"
     ]
    },
    {
     "name": "stdout",
     "output_type": "stream",
     "text": [
      "radius 0.1965990323468801\n"
     ]
    },
    {
     "name": "stderr",
     "output_type": "stream",
     "text": [
      "Loss dist: 0.2227859997404416: 100%|██████████| 1/1 [00:00<00:00, 48.50it/s]"
     ]
    },
    {
     "name": "stdout",
     "output_type": "stream",
     "text": [
      "Loss sim: [0.4989647767782615]\n",
      "Epoch: 32\n"
     ]
    },
    {
     "name": "stderr",
     "output_type": "stream",
     "text": [
      "\n"
     ]
    },
    {
     "name": "stdout",
     "output_type": "stream",
     "text": [
      "radius 0.1976570133149881\n"
     ]
    },
    {
     "name": "stderr",
     "output_type": "stream",
     "text": [
      "Loss dist: 0.22045440639985608: 100%|██████████| 1/1 [00:00<00:00, 46.99it/s]"
     ]
    },
    {
     "name": "stdout",
     "output_type": "stream",
     "text": [
      "Loss sim: [0.49894858465609965]\n",
      "Epoch: 33\n"
     ]
    },
    {
     "name": "stderr",
     "output_type": "stream",
     "text": [
      "\n"
     ]
    },
    {
     "name": "stdout",
     "output_type": "stream",
     "text": [
      "radius 0.19969094802296372\n"
     ]
    },
    {
     "name": "stderr",
     "output_type": "stream",
     "text": [
      "Loss dist: 0.22051415243686268: 100%|██████████| 1/1 [00:00<00:00, 43.87it/s]"
     ]
    },
    {
     "name": "stdout",
     "output_type": "stream",
     "text": [
      "Loss sim: [0.4991746028904772]\n",
      "Epoch: 34\n"
     ]
    },
    {
     "name": "stderr",
     "output_type": "stream",
     "text": [
      "\n"
     ]
    },
    {
     "name": "stdout",
     "output_type": "stream",
     "text": [
      "radius 0.19744437788143207\n"
     ]
    },
    {
     "name": "stderr",
     "output_type": "stream",
     "text": [
      "Loss dist: 0.2172595228127511: 100%|██████████| 1/1 [00:00<00:00, 49.98it/s]"
     ]
    },
    {
     "name": "stdout",
     "output_type": "stream",
     "text": [
      "Loss sim: [0.49955793213891864]\n",
      "Epoch: 35\n"
     ]
    },
    {
     "name": "stderr",
     "output_type": "stream",
     "text": [
      "\n"
     ]
    },
    {
     "name": "stdout",
     "output_type": "stream",
     "text": [
      "radius 0.19759738441703123\n"
     ]
    },
    {
     "name": "stderr",
     "output_type": "stream",
     "text": [
      "Loss dist: 0.21915878727541083: 100%|██████████| 1/1 [00:00<00:00, 47.90it/s]"
     ]
    },
    {
     "name": "stdout",
     "output_type": "stream",
     "text": [
      "Loss sim: [0.49964246793906836]\n",
      "Epoch: 36\n"
     ]
    },
    {
     "name": "stderr",
     "output_type": "stream",
     "text": [
      "\n"
     ]
    },
    {
     "name": "stdout",
     "output_type": "stream",
     "text": [
      "radius 0.196991239258162\n"
     ]
    },
    {
     "name": "stderr",
     "output_type": "stream",
     "text": [
      "Loss dist: 0.21609813307220865: 100%|██████████| 1/1 [00:00<00:00, 48.75it/s]"
     ]
    },
    {
     "name": "stdout",
     "output_type": "stream",
     "text": [
      "Loss sim: [0.4998148794689099]\n",
      "Epoch: 37\n"
     ]
    },
    {
     "name": "stderr",
     "output_type": "stream",
     "text": [
      "\n"
     ]
    },
    {
     "name": "stdout",
     "output_type": "stream",
     "text": [
      "radius 0.196306209213682\n"
     ]
    },
    {
     "name": "stderr",
     "output_type": "stream",
     "text": [
      "Loss dist: 0.21816045137712278: 100%|██████████| 1/1 [00:00<00:00, 47.94it/s]"
     ]
    },
    {
     "name": "stdout",
     "output_type": "stream",
     "text": [
      "Loss sim: [0.4997419254423989]\n",
      "Epoch: 38\n"
     ]
    },
    {
     "name": "stderr",
     "output_type": "stream",
     "text": [
      "\n"
     ]
    },
    {
     "name": "stdout",
     "output_type": "stream",
     "text": [
      "radius 0.19918282537951087\n"
     ]
    },
    {
     "name": "stderr",
     "output_type": "stream",
     "text": [
      "Loss dist: 0.21499767977510828: 100%|██████████| 1/1 [00:00<00:00, 53.57it/s]"
     ]
    },
    {
     "name": "stdout",
     "output_type": "stream",
     "text": [
      "Loss sim: [0.499831510601547]\n",
      "Epoch: 39\n"
     ]
    },
    {
     "name": "stderr",
     "output_type": "stream",
     "text": [
      "\n"
     ]
    },
    {
     "name": "stdout",
     "output_type": "stream",
     "text": [
      "radius 0.19663224104572574\n"
     ]
    },
    {
     "name": "stderr",
     "output_type": "stream",
     "text": [
      "Loss dist: 0.21661164143233236: 100%|██████████| 1/1 [00:00<00:00, 44.75it/s]"
     ]
    },
    {
     "name": "stdout",
     "output_type": "stream",
     "text": [
      "Loss sim: [0.4997822716203052]\n",
      "Epoch: 40\n"
     ]
    },
    {
     "name": "stderr",
     "output_type": "stream",
     "text": [
      "\n"
     ]
    },
    {
     "name": "stdout",
     "output_type": "stream",
     "text": [
      "radius 0.19482012131712212\n"
     ]
    },
    {
     "name": "stderr",
     "output_type": "stream",
     "text": [
      "Loss dist: 0.21644806629072205: 100%|██████████| 1/1 [00:00<00:00, 48.84it/s]"
     ]
    },
    {
     "name": "stdout",
     "output_type": "stream",
     "text": [
      "Loss sim: [0.4997890537446844]\n",
      "Epoch: 41\n"
     ]
    },
    {
     "name": "stderr",
     "output_type": "stream",
     "text": [
      "\n"
     ]
    },
    {
     "name": "stdout",
     "output_type": "stream",
     "text": [
      "radius 0.1950353914000847\n"
     ]
    },
    {
     "name": "stderr",
     "output_type": "stream",
     "text": [
      "Loss dist: 0.2161686239998109: 100%|██████████| 1/1 [00:00<00:00, 42.93it/s]"
     ]
    },
    {
     "name": "stdout",
     "output_type": "stream",
     "text": [
      "Loss sim: [0.4997768871179333]\n",
      "Epoch: 42\n"
     ]
    },
    {
     "name": "stderr",
     "output_type": "stream",
     "text": [
      "\n"
     ]
    },
    {
     "name": "stdout",
     "output_type": "stream",
     "text": [
      "radius 0.19817864479819314\n"
     ]
    },
    {
     "name": "stderr",
     "output_type": "stream",
     "text": [
      "Loss dist: 0.21465436848033725: 100%|██████████| 1/1 [00:00<00:00, 45.14it/s]"
     ]
    },
    {
     "name": "stdout",
     "output_type": "stream",
     "text": [
      "Loss sim: [0.4997999443253957]\n",
      "Epoch: 43\n"
     ]
    },
    {
     "name": "stderr",
     "output_type": "stream",
     "text": [
      "\n"
     ]
    },
    {
     "name": "stdout",
     "output_type": "stream",
     "text": [
      "radius 0.19752443138176085\n"
     ]
    },
    {
     "name": "stderr",
     "output_type": "stream",
     "text": [
      "Loss dist: 0.21418735229154967: 100%|██████████| 1/1 [00:00<00:00, 48.95it/s]"
     ]
    },
    {
     "name": "stdout",
     "output_type": "stream",
     "text": [
      "Loss sim: [0.4998496654305962]\n",
      "Epoch: 44\n"
     ]
    },
    {
     "name": "stderr",
     "output_type": "stream",
     "text": [
      "\n"
     ]
    },
    {
     "name": "stdout",
     "output_type": "stream",
     "text": [
      "radius 0.19435669773099773\n"
     ]
    },
    {
     "name": "stderr",
     "output_type": "stream",
     "text": [
      "Loss dist: 0.2155424994704161: 100%|██████████| 1/1 [00:00<00:00, 47.62it/s]"
     ]
    },
    {
     "name": "stdout",
     "output_type": "stream",
     "text": [
      "Loss sim: [0.4998663449045101]\n",
      "Epoch: 45\n"
     ]
    },
    {
     "name": "stderr",
     "output_type": "stream",
     "text": [
      "\n"
     ]
    },
    {
     "name": "stdout",
     "output_type": "stream",
     "text": [
      "radius 0.19460684861575792\n"
     ]
    },
    {
     "name": "stderr",
     "output_type": "stream",
     "text": [
      "Loss dist: 0.21474317723820688: 100%|██████████| 1/1 [00:00<00:00, 47.85it/s]"
     ]
    },
    {
     "name": "stdout",
     "output_type": "stream",
     "text": [
      "Loss sim: [0.4999042504262165]\n",
      "Epoch: 46\n"
     ]
    },
    {
     "name": "stderr",
     "output_type": "stream",
     "text": [
      "\n"
     ]
    },
    {
     "name": "stdout",
     "output_type": "stream",
     "text": [
      "radius 0.19750855489570945\n"
     ]
    },
    {
     "name": "stderr",
     "output_type": "stream",
     "text": [
      "Loss dist: 0.2140677192235778: 100%|██████████| 1/1 [00:00<00:00, 53.50it/s]"
     ]
    },
    {
     "name": "stdout",
     "output_type": "stream",
     "text": [
      "Loss sim: [0.4998637237982167]\n",
      "Epoch: 47\n"
     ]
    },
    {
     "name": "stderr",
     "output_type": "stream",
     "text": [
      "\n"
     ]
    },
    {
     "name": "stdout",
     "output_type": "stream",
     "text": [
      "radius 0.19846777610170518\n"
     ]
    },
    {
     "name": "stderr",
     "output_type": "stream",
     "text": [
      "Loss dist: 0.2128678200294514: 100%|██████████| 1/1 [00:00<00:00, 47.88it/s]"
     ]
    },
    {
     "name": "stdout",
     "output_type": "stream",
     "text": [
      "Loss sim: [0.49987954859791645]\n",
      "Epoch: 48\n"
     ]
    },
    {
     "name": "stderr",
     "output_type": "stream",
     "text": [
      "\n"
     ]
    },
    {
     "name": "stdout",
     "output_type": "stream",
     "text": [
      "radius 0.19646347886406143\n"
     ]
    },
    {
     "name": "stderr",
     "output_type": "stream",
     "text": [
      "Loss dist: 0.2141772567699699: 100%|██████████| 1/1 [00:00<00:00, 47.29it/s]"
     ]
    },
    {
     "name": "stdout",
     "output_type": "stream",
     "text": [
      "Loss sim: [0.49983119869405357]\n",
      "Epoch: 49\n"
     ]
    },
    {
     "name": "stderr",
     "output_type": "stream",
     "text": [
      "\n"
     ]
    },
    {
     "name": "stdout",
     "output_type": "stream",
     "text": [
      "radius 0.19346847836556588\n"
     ]
    },
    {
     "name": "stderr",
     "output_type": "stream",
     "text": [
      "Loss dist: 0.21459967058933915: 100%|██████████| 1/1 [00:00<00:00, 48.79it/s]"
     ]
    },
    {
     "name": "stdout",
     "output_type": "stream",
     "text": [
      "Loss sim: [0.49987166771032915]\n"
     ]
    },
    {
     "name": "stderr",
     "output_type": "stream",
     "text": [
      "\n"
     ]
    }
   ],
   "source": [
    "# overestimate proportin of anomalies\n",
    "C = 1 / (N * 0.1) \n",
    "l1 = 0.5 # shapelet similarity parameter\n",
    "\n",
    "print('Cuda available?', torch.cuda.is_available())\n",
    "loss_sim = DiscrepancySimilarity()\n",
    "extractor = LearningShapelets(len_shapelets=L, num_shapelets=K, in_channels=1, C=C, verbose=1, to_cuda=True, l1=l1, loss_sim=loss_sim)\n",
    "extractor.set_shapelet_weights(clusters_centers)\n",
    "\n",
    "lr = 1e-1\n",
    "optimizer = torch.optim.SGD(extractor.model.parameters(), lr=lr, momentum=0.9)\n",
    "extractor.set_optimizer(optimizer)\n",
    "\n",
    "n_epoch_steps = 50\n",
    "n_epochs = 1\n",
    "# total epochs = n_epoch_steps * n_epochs\n",
    "batch_size = N\n",
    "\n",
    "# Input shape must be a pytorch TENSOR with shape (n_samples, in_channels, len_ts)\n",
    "X_train_tensor = tensor(X_train_anomaly, dtype=dtype).contiguous().transpose(1,2).cuda()\n",
    "X_test_tensor = tensor(X_test_anomaly, dtype=dtype).contiguous().transpose(1,2).cuda()\n",
    "X_valid_tensor = tensor(X_valid_anomaly, dtype=dtype).contiguous().transpose(1,2).cuda()\n",
    "\n",
    "extractor.compute_radius(X_train_tensor, tol=1e-6)\n",
    "\n",
    "extractor.model(X_train_tensor).shape\n",
    "\n",
    "losses_dist_train = []\n",
    "losses_sim = []\n",
    "for epoch in range(n_epoch_steps):\n",
    "    print(f'Epoch: {epoch}')\n",
    "    extractor.compute_radius(X_train_tensor, tol=1e-6)\n",
    "    print('radius', extractor.loss_func.get_radius())\n",
    "    current_loss_dist, current_loss_sim = extractor.fit(X_train_tensor, epochs=n_epochs, batch_size=batch_size)\n",
    "    # current_loss_dist = extractor.fit(X_train_tensor, epochs=n_epochs, batch_size=batch_size)\n",
    "    print('Loss sim:', current_loss_sim)\n",
    "    losses_dist_train += current_loss_dist\n",
    "    losses_sim += current_loss_sim"
   ]
  },
  {
   "cell_type": "markdown",
   "metadata": {},
   "source": [
    "Loss Decay:"
   ]
  },
  {
   "cell_type": "code",
   "execution_count": 11,
   "metadata": {},
   "outputs": [
    {
     "data": {
      "image/png": "[encoded data removed]",
      "text/plain": [
       "<Figure size 432x288 with 1 Axes>"
      ]
     },
     "metadata": {
      "needs_background": "light"
     },
     "output_type": "display_data"
    }
   ],
   "source": [
    "plt.plot(losses_dist_train, color='blue')\n",
    "plt.title(\"Loss over Training Steps\", fontweight=\"bold\")\n",
    "plt.xlabel(\"training step\")\n",
    "plt.ylabel(\"loss\")\n",
    "plt.show()"
   ]
  },
  {
   "cell_type": "markdown",
   "metadata": {},
   "source": [
    "Shapelets:"
   ]
  },
  {
   "cell_type": "code",
   "execution_count": 18,
   "metadata": {},
   "outputs": [
    {
     "name": "stdout",
     "output_type": "stream",
     "text": [
      "Type and shape of the shapelets in output <class 'numpy.ndarray'> (3, 35, 1)\n"
     ]
    },
    {
     "data": {
      "image/png": "[encoded data removed]",
      "text/plain": [
       "<Figure size 432x288 with 1 Axes>"
      ]
     },
     "metadata": {
      "needs_background": "light"
     },
     "output_type": "display_data"
    }
   ],
   "source": [
    "# plot the shapelets\n",
    "S = extractor.get_shapelets()\n",
    "# use moveaxis because the shapelets returned have shape (num_shapelets, in_channels, shapelets_size)\n",
    "S = np.moveaxis(S, 1, 2)\n",
    "print('Type and shape of the shapelets in output', type(S),  S.shape)\n",
    "\n",
    "plt.figure()\n",
    "for i in range(len(S)):\n",
    "    shap = S[i,:,]\n",
    "    plt.plot(shap, label=f'shapelet{i+1}')\n",
    "plt.legend()\n",
    "plt.title('The extracted shapelets', fontweight=\"bold\")\n",
    "plt.show()\n"
   ]
  },
  {
   "cell_type": "markdown",
   "metadata": {},
   "source": [
    "Transform train and test set:"
   ]
  },
  {
   "cell_type": "code",
   "execution_count": 19,
   "metadata": {},
   "outputs": [
    {
     "name": "stdout",
     "output_type": "stream",
     "text": [
      "Type and shape of transformed train data <class 'numpy.ndarray'> (2063, 3)\n",
      "Type and shape of transformed test data <class 'numpy.ndarray'> (2055, 3)\n"
     ]
    }
   ],
   "source": [
    "# tranform method takes in input a tensor of shape (n_samples, in_channels, len_ts) \n",
    "# and outputs a numpy array of shape (n_samples, n_shapelets)\n",
    "X_train_transform = extractor.transform(X_train_tensor)\n",
    "X_test_transform = extractor.transform(X_test_tensor)\n",
    "X_valid_transform = extractor.transform(X_valid_tensor)\n",
    "\n",
    "# check if type and shape are correct:\n",
    "print('Type and shape of transformed train data', type(X_train_transform),  X_train_transform.shape)\n",
    "print('Type and shape of transformed test data', type(X_test_transform),  X_test_transform.shape)"
   ]
  },
  {
   "cell_type": "markdown",
   "metadata": {},
   "source": [
    "## Anomaly detection using SVDD"
   ]
  },
  {
   "cell_type": "markdown",
   "metadata": {},
   "source": [
    "Choose how many extracted shapelets to take (2 for visualization purposes):"
   ]
  },
  {
   "cell_type": "code",
   "execution_count": 20,
   "metadata": {},
   "outputs": [
    {
     "name": "stdout",
     "output_type": "stream",
     "text": [
      "207 support vectors out of 2063 points\n",
      "Solution found with center in 0.0 and radius 0.1959704527679523\n",
      "Test balanced accuracy: 0.5221563573883161\n",
      "Test F1 score: 0.22692533803644915\n",
      "Test AUC: 0.7349381443298969\n",
      "valid balanced accuracy: 0.5061306267396103\n",
      "valid F1 score: 0.23236514522821577\n",
      "Valid AUC: 0.7133961992513677\n"
     ]
    },
    {
     "data": {
      "image/png": "[encoded data removed]",
      "text/plain": [
       "<Figure size 432x288 with 2 Axes>"
      ]
     },
     "metadata": {
      "needs_background": "light"
     },
     "output_type": "display_data"
    }
   ],
   "source": [
    "svdd = SVDD(C=C, zero_center=True, tol=1e-6, verbose=True, show_progress=False)\n",
    "\n",
    "# fit the model\n",
    "svdd.fit(X_train_transform)\n",
    "\n",
    "# BALANCED ACCURACY\n",
    "y_test_predict = svdd.predict(X_test_transform)\n",
    "test_ba = balanced_accuracy_score(y_test_anomaly, y_test_predict)\n",
    "print(\"Test balanced accuracy:\", test_ba)\n",
    "# F1 score\n",
    "f1_test = f1_score(y_test_anomaly, y_test_predict, pos_label=-1)\n",
    "print(\"Test F1 score:\", f1_test)\n",
    "\n",
    "# Confusion matrix for test \n",
    "cm = confusion_matrix(y_test_anomaly, y_test_predict)\n",
    "cm_display = ConfusionMatrixDisplay(cm, display_labels=[-1,1]).plot()\n",
    "plt.show()\n",
    "\n",
    "# AUC\n",
    "y_test_scores = -svdd.decision_function(X_test_transform)\n",
    "fpr, tpr, _ = roc_curve(y_test_anomaly, y_test_scores, pos_label=-1)\n",
    "auc_test = auc(fpr, tpr)\n",
    "print(\"Test AUC:\", auc_test)\n",
    "\n",
    "y_valid_predict = svdd.predict(X_valid_transform)\n",
    "valid_ba = balanced_accuracy_score(y_valid_anomaly, y_valid_predict)\n",
    "print(\"valid balanced accuracy:\", valid_ba)\n",
    "# F1 score\n",
    "f1_valid = f1_score(y_valid_anomaly, y_valid_predict, pos_label=-1)\n",
    "print(\"valid F1 score:\", f1_valid)\n",
    "\n",
    "y_valid_scores = -svdd.decision_function(X_valid_transform)\n",
    "fpr, tpr, _ = roc_curve(y_valid_anomaly, y_valid_scores, pos_label=-1)\n",
    "auc_valid = auc(fpr, tpr)\n",
    "print(\"Valid AUC:\", auc_valid)"
   ]
  },
  {
   "cell_type": "code",
   "execution_count": 36,
   "metadata": {},
   "outputs": [
    {
     "name": "stdout",
     "output_type": "stream",
     "text": [
      "0.048\n",
      "0.24801587301587302\n",
      "0.23809523809523808\n"
     ]
    }
   ],
   "source": [
    "# nu is the proportion of anomalies w.r.t. the total\n",
    "nu = np.around(len(y_train_anomaly[y_train_anomaly==-1])/len(y_train_anomaly), 3)\n",
    "print(nu)\n",
    "\n",
    "# set C with real percentage of anomalies\n",
    "C1 = 1 / (N * nu)\n",
    "print(C1)\n",
    "\n",
    "# set C according to Beggel's paper (smaller)\n",
    "C2 = 1 / (N * alpha)\n",
    "print(C2)"
   ]
  },
  {
   "cell_type": "code",
   "execution_count": 37,
   "metadata": {},
   "outputs": [
    {
     "name": "stdout",
     "output_type": "stream",
     "text": [
      "5 support vectors out of 84 points\n",
      "Solution found with center in 0.0 and radius 0.5540285110473633\n"
     ]
    }
   ],
   "source": [
    "svdd = SVDD(C=C2, zero_center=True)\n",
    "\n",
    "# fit the model\n",
    "svdd.fit(X_train_transform)"
   ]
  },
  {
   "cell_type": "markdown",
   "metadata": {},
   "source": [
    "EVALUATE the prediction:"
   ]
  },
  {
   "cell_type": "code",
   "execution_count": 38,
   "metadata": {},
   "outputs": [
    {
     "name": "stdout",
     "output_type": "stream",
     "text": [
      "SVDD train balanced accuracy: 0.60625\n",
      "SVDD train AUC: 0.946875\n",
      "SVDD train F1 score: 0.9625000000000001\n"
     ]
    }
   ],
   "source": [
    "## TRAIN\n",
    "# BALANCED ACCURACY\n",
    "y_train_predict = svdd.predict(X_train_transform)\n",
    "train_ba = balanced_accuracy_score(y_train_anomaly, y_train_predict)\n",
    "print(\"SVDD train balanced accuracy:\", train_ba)\n",
    "\n",
    "# AUC\n",
    "y_train_scores = svdd.decision_function(X_train_transform)\n",
    "auc_train = roc_auc_score(y_train_anomaly, y_train_scores)\n",
    "print(\"SVDD train AUC:\", auc_train)\n",
    "\n",
    "# F1 score\n",
    "f1_train = f1_score(y_train_anomaly, y_train_predict)\n",
    "print(\"SVDD train F1 score:\", f1_train)"
   ]
  },
  {
   "cell_type": "code",
   "execution_count": 39,
   "metadata": {},
   "outputs": [
    {
     "name": "stdout",
     "output_type": "stream",
     "text": [
      "SVDD test balanced accuracy: 0.6302083333333334\n",
      "SVDD test AUC: 0.9973958333333334\n",
      "SVDD train F1 score: 0.9625000000000001\n"
     ]
    }
   ],
   "source": [
    "## TEST\n",
    "# BALANCED ACCURACY\n",
    "y_test_predict = svdd.predict(X_test_transform)\n",
    "test_ba = balanced_accuracy_score(y_test_anomaly, y_test_predict)\n",
    "print(\"SVDD test balanced accuracy:\", test_ba)\n",
    "\n",
    "# AUC\n",
    "y_test_scores = svdd.decision_function(X_test_transform)\n",
    "auc_test = roc_auc_score(y_test_anomaly, y_test_scores)\n",
    "print(\"SVDD test AUC:\", auc_test)\n",
    "\n",
    "# F1 score\n",
    "f1_train = f1_score(y_train_anomaly, y_train_predict)\n",
    "print(\"SVDD train F1 score:\", f1_train)"
   ]
  },
  {
   "cell_type": "markdown",
   "metadata": {},
   "source": [
    "### PLOTS (first two coordinates in shapelet transformed space):"
   ]
  },
  {
   "cell_type": "markdown",
   "metadata": {},
   "source": [
    "NOTE: if were taken more than 2 shapelets the SVDD boundaries are plotted but they do not indicate the correct boundary in more than two dimension of the true points (the points are collapsed in the plane as if their other coordinates were equal to zero)"
   ]
  },
  {
   "cell_type": "markdown",
   "metadata": {},
   "source": [
    "TRAIN DATA and SVDD boundary"
   ]
  },
  {
   "cell_type": "code",
   "execution_count": 40,
   "metadata": {},
   "outputs": [
    {
     "data": {
      "image/png": "[encoded data removed]",
      "text/plain": [
       "<Figure size 432x288 with 1 Axes>"
      ]
     },
     "metadata": {
      "needs_background": "light"
     },
     "output_type": "display_data"
    }
   ],
   "source": [
    "x_max = max(X_train_transform[:,0])+0.01\n",
    "y_max = max(X_train_transform[:,1])+0.01\n",
    "xx, yy = np.meshgrid(np.linspace(-0.1, x_max, 500), np.linspace(-0.1, y_max, 500))\n",
    "Z = svdd.decision_function(np.c_[xx.ravel(), yy.ravel()])\n",
    "Z = Z.reshape(xx.shape)\n",
    "pIndex_train = y_train_anomaly == 1\n",
    "nIndex_train = y_train_anomaly == -1\n",
    "\n",
    "\n",
    "plt.figure()\n",
    "plt.title(\"ECG (train)\", fontweight=\"bold\")\n",
    "\n",
    "plt.contourf(xx, yy, Z, levels=[0, Z.max()], colors=\"palevioletred\")\n",
    "plt.scatter(X_train_transform[pIndex_train, 0], X_train_transform[pIndex_train, 1], facecolor='C0', marker='o', s=100, linewidths=2,\n",
    "                     edgecolor='black', zorder=2, label=\"Normal\")\n",
    "\n",
    "plt.scatter(X_train_transform[nIndex_train, 0], X_train_transform[nIndex_train, 1], facecolor='C3', marker='o', s=100, linewidths=2,\n",
    "                     edgecolor='black', zorder=2, label=\"Anomalies\")\n",
    "\n",
    "plt.legend(ncol=1, loc='upper left', edgecolor='black',\n",
    "                    markerscale=1.2, fancybox=True)\n",
    "plt.xlim((-0.01, x_max + 0.1))\n",
    "plt.ylim((-0.01, y_max + 0.1))\n",
    "plt.ylabel(\"shapelet 2\")\n",
    "plt.xlabel(\"shapelet 1\")\n",
    "plt.show()"
   ]
  },
  {
   "cell_type": "markdown",
   "metadata": {},
   "source": [
    "TEST DATA and SVDD boundary"
   ]
  },
  {
   "cell_type": "code",
   "execution_count": 41,
   "metadata": {},
   "outputs": [
    {
     "data": {
      "image/png": "[encoded data removed]",
      "text/plain": [
       "<Figure size 432x288 with 1 Axes>"
      ]
     },
     "metadata": {
      "needs_background": "light"
     },
     "output_type": "display_data"
    }
   ],
   "source": [
    "x_max = max(X_test_transform[:,0])+0.01\n",
    "y_max = max(X_test_transform[:,1])+0.01\n",
    "xx, yy = np.meshgrid(np.linspace(-0.1, x_max, 500), np.linspace(-0.1, y_max, 500))\n",
    "Z = svdd.decision_function(np.c_[xx.ravel(), yy.ravel()])\n",
    "Z = Z.reshape(xx.shape)\n",
    "pIndex_test = y_test_anomaly == 1\n",
    "nIndex_test = y_test_anomaly == -1\n",
    "auc_test = np.around(auc_test, 3)\n",
    "plt.figure()\n",
    "plt.title(\"ECG (test)\", fontweight=\"bold\")\n",
    "\n",
    "plt.contourf(xx, yy, Z, levels=[0, Z.max()], colors=\"palevioletred\")\n",
    "plt.scatter(X_test_transform[pIndex_test, 0], X_test_transform[pIndex_test, 1], facecolor='C0', marker='o', s=100, linewidths=2,\n",
    "                     edgecolor='black', zorder=2, label=\"Normal\")\n",
    "\n",
    "plt.scatter(X_test_transform[nIndex_test, 0], X_test_transform[nIndex_test, 1], facecolor='C3', marker='o', s=100, linewidths=2,\n",
    "                     edgecolor='black', zorder=2, label=\"Anomalies\")\n",
    "\n",
    "plt.legend(ncol=1, loc='upper left', edgecolor='black',\n",
    "                     markerscale=1.2, fancybox=True)\n",
    "\n",
    "plt.xlim((-0.01, y_max + 0.1))\n",
    "plt.ylim((-0.01, y_max + 0.1))\n",
    "plt.ylabel(\"shapelet 2\")\n",
    "plt.xlabel(\"shapelet 1\")\n",
    "plt.show()"
   ]
  }
 ],
 "metadata": {
  "kernelspec": {
   "display_name": "Python 3.6.13 ('ludo_env')",
   "language": "python",
   "name": "python3"
  },
  "language_info": {
   "codemirror_mode": {
    "name": "ipython",
    "version": 3
   },
   "file_extension": ".py",
   "mimetype": "text/x-python",
   "name": "python",
   "nbconvert_exporter": "python",
   "pygments_lexer": "ipython3",
   "version": "3.6.13"
  },
  "orig_nbformat": 4,
  "vscode": {
   "interpreter": {
    "hash": "ddac88a25be5187c58cc97c16ee39544cdf2ad84a4ec0b97da50bb1e8eba9915"
   }
  }
 },
 "nbformat": 4,
 "nbformat_minor": 2
}
