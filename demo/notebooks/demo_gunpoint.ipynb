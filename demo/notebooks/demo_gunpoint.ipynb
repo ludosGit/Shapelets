{
 "cells": [
  {
   "cell_type": "markdown",
   "metadata": {},
   "source": [
    "# GunPoint DATASET"
   ]
  },
  {
   "cell_type": "markdown",
   "metadata": {},
   "source": [
    "Demo for Beggel's ADSL algorithm implementation in pytorch "
   ]
  },
  {
   "cell_type": "code",
   "execution_count": 2,
   "metadata": {},
   "outputs": [
    {
     "name": "stderr",
     "output_type": "stream",
     "text": [
      "/opt/anaconda3/envs/ludo_env/lib/python3.6/site-packages/tqdm/auto.py:22: TqdmWarning: IProgress not found. Please update jupyter and ipywidgets. See https://ipywidgets.readthedocs.io/en/stable/user_install.html\n",
      "  from .autonotebook import tqdm as notebook_tqdm\n"
     ]
    }
   ],
   "source": [
    "import pandas as pd\n",
    "\n",
    "import os \n",
    "os.chdir('/home/ludovicobartoli/Documents/Shapelets')\n",
    "\n",
    "import numpy as np\n",
    "import random\n",
    "import torch\n",
    "from torch import tensor\n",
    "\n",
    "from tslearn.datasets import CachedDatasets, UCR_UEA_datasets\n",
    "from tslearn.clustering import TimeSeriesKMeans\n",
    "from tslearn.preprocessing import TimeSeriesScalerMinMax, TimeSeriesScalerMeanVariance\n",
    "\n",
    "from src.preprocessing_anomaly import preprocessing_anomaly\n",
    "from src.SVDD.SVDD import SVDD\n",
    "from src.util import Scaler, euclidean_distance_shifted, length_normalized_distance, max_corr, get_weights_via_kmeans, mean_shift\n",
    "from src.learning.learningextractor import LearningShapelets \n",
    "from src.learning.similarityloss import DiscrepancySimilarity, CorrelationSimilairty\n",
    "from src.searching.bruteforce_multivariate import Bruteforce_extractor_mv, Candidateset\n",
    "from src.searching.RLS import RLS_extractor, RLS_candidateset\n",
    "\n",
    "from sklearn.metrics import balanced_accuracy_score, roc_auc_score, f1_score\n",
    "from sklearn.preprocessing import MinMaxScaler, StandardScaler, LabelEncoder\n",
    "from sklearn.metrics import confusion_matrix\n",
    "from sklearn.metrics import ConfusionMatrixDisplay\n",
    "from sklearn.metrics import roc_curve, auc\n",
    "from sklearn.svm import OneClassSVM\n",
    "\n",
    "import matplotlib.pyplot as plt\n",
    "plt.rcParams[\"font.weight\"] = \"bold\"\n",
    "plt.rcParams[\"axes.labelweight\"] = \"bold\"\n"
   ]
  },
  {
   "cell_type": "markdown",
   "metadata": {},
   "source": [
    "## Set up the dataset"
   ]
  },
  {
   "cell_type": "markdown",
   "metadata": {},
   "source": [
    "### Read the data"
   ]
  },
  {
   "cell_type": "code",
   "execution_count": 3,
   "metadata": {},
   "outputs": [
    {
     "name": "stdout",
     "output_type": "stream",
     "text": [
      "Shape of training data: (50, 150, 1)\n",
      "Shape of test data: (150, 150, 1)\n",
      "The different classes: {1, 2}\n"
     ]
    }
   ],
   "source": [
    "data_name = \"GunPoint\"\n",
    "X_train = np.load(f'demo/data/{data_name}_train.npy')\n",
    "y_train = np.load(f'demo/data/{data_name}_train_labels.npy')\n",
    "X_test = np.load(f'demo/data/{data_name}_test.npy')\n",
    "y_test = np.load(f'demo/data/{data_name}_test_labeles.npy')\n",
    "\n",
    "print(f'Shape of training data: {X_train.shape}')\n",
    "print(f'Shape of test data: {X_test.shape}')\n",
    "print(f'The different classes: {set(y_train)}')"
   ]
  },
  {
   "cell_type": "markdown",
   "metadata": {},
   "source": [
    "### Preprocessing"
   ]
  },
  {
   "cell_type": "code",
   "execution_count": 4,
   "metadata": {},
   "outputs": [
    {
     "name": "stdout",
     "output_type": "stream",
     "text": [
      "Shape of the total data: (200, 150, 1)\n",
      "Number of total samples in each class: [100, 100]\n"
     ]
    }
   ],
   "source": [
    "X_total = np.concatenate((X_train, X_test), axis=0)\n",
    "y_total = np.concatenate((y_train, y_test), axis=0)\n",
    "print(f'Shape of the total data: {X_total.shape}')\n",
    "\n",
    "#### check if one class is predominant\n",
    "obs_perclass = [len(y_total[y_total==i]) for i in set(y_total)]\n",
    "print(f'Number of total samples in each class: {obs_perclass}')"
   ]
  },
  {
   "cell_type": "markdown",
   "metadata": {},
   "source": [
    "Plot one sample per class:"
   ]
  },
  {
   "cell_type": "code",
   "execution_count": 5,
   "metadata": {},
   "outputs": [
    {
     "data": {
      "image/png": "[encoded data removed]",
      "text/plain": [
       "<Figure size 432x288 with 2 Axes>"
      ]
     },
     "metadata": {
      "needs_background": "light"
     },
     "output_type": "display_data"
    }
   ],
   "source": [
    "n_class = len(obs_perclass)\n",
    "fig, ax = plt.subplots(n_class,)\n",
    "\n",
    "# NOTE: modify if the labels start from 0 or 1\n",
    "for i in range(n_class):\n",
    "    ts = X_train[y_train==i+1][0,:,0]\n",
    "    ax[i].set_title(f'{data_name} Class {i+1}', fontsize=10, fontweight=\"bold\")\n",
    "    ax[i].plot(ts)\n",
    "plt.subplots_adjust(hspace=1)\n",
    "plt.show()\n",
    "plt.show()"
   ]
  },
  {
   "cell_type": "markdown",
   "metadata": {},
   "source": [
    "#### Create anomaly detection dataset:"
   ]
  },
  {
   "cell_type": "code",
   "execution_count": 6,
   "metadata": {},
   "outputs": [],
   "source": [
    "normal_class = 1 # choose the normal class\n",
    "normal_prop = 0.8 # proportion of normal samples that go in train set\n",
    "alpha = 0.05 # proportion of anomalies wrt normal \n",
    "valid_prop = 0.3\n",
    "X_train_anomaly, y_train_anomaly, X_test_anomaly, y_test_anomaly, X_valid_anomaly, y_valid_anomaly = preprocessing_anomaly(X_train, y_train, X_test, y_test, alpha=alpha, normal_class=normal_class, normal_prop=normal_prop, valid_prop=valid_prop)\n"
   ]
  },
  {
   "cell_type": "markdown",
   "metadata": {},
   "source": [
    "Get statistics of the anomaly detection dataset:"
   ]
  },
  {
   "cell_type": "code",
   "execution_count": 7,
   "metadata": {},
   "outputs": [
    {
     "name": "stdout",
     "output_type": "stream",
     "text": [
      "GunPoint dataset\n",
      "number train ts is 84, each of length 150\n",
      "They belong to two possible classes: {1, -1}\n",
      "number test ts 81\n",
      "number of normal train series: 80\n",
      "number of anomalous train series: 4\n",
      "number of normal test series: 12\n",
      "number of anomalous test series: 69\n",
      "number of normal valid series: 8\n",
      "number of anomalous valid series: 27\n"
     ]
    }
   ],
   "source": [
    "N, Q, n_channels = X_train_anomaly.shape\n",
    "print(f'{data_name} dataset')\n",
    "print(f'number train ts is {N}, each of length {Q}')\n",
    "print(f'They belong to two possible classes: {set(y_train_anomaly)}')\n",
    "print('number test ts', len(X_test_anomaly))\n",
    "print('number of normal train series:', len(y_train_anomaly[y_train_anomaly==1]))\n",
    "print('number of anomalous train series:', len(y_train_anomaly[y_train_anomaly==-1]))\n",
    "print('number of normal test series:', len(y_test_anomaly[y_test_anomaly==1]))\n",
    "print('number of anomalous test series:', len(y_test_anomaly[y_test_anomaly==-1]))\n",
    "print('number of normal valid series:', len(y_valid_anomaly[y_valid_anomaly==1]))\n",
    "print('number of anomalous valid series:', len(y_valid_anomaly[y_valid_anomaly==-1]))"
   ]
  },
  {
   "cell_type": "markdown",
   "metadata": {},
   "source": [
    "#### Normalize:"
   ]
  },
  {
   "cell_type": "code",
   "execution_count": 8,
   "metadata": {},
   "outputs": [],
   "source": [
    "# normalize the time series\n",
    "# as in the tutorial https://tslearn.readthedocs.io/en/stable/auto_examples/classification/plot_shapelets.html#sphx-glr-auto-examples-classification-plot-shapelets-py\n",
    "scaler = TimeSeriesScalerMinMax()\n",
    "X_train_anomaly = scaler.fit_transform(X_train_anomaly)\n",
    "X_test_anomaly = scaler.fit_transform(X_test_anomaly)\n",
    "X_valid_anomaly = scaler.fit_transform(X_valid_anomaly)"
   ]
  },
  {
   "cell_type": "markdown",
   "metadata": {},
   "source": [
    "#### Plot train set"
   ]
  },
  {
   "cell_type": "code",
   "execution_count": 9,
   "metadata": {},
   "outputs": [
    {
     "data": {
      "image/png": "[encoded data removed]",
      "text/plain": [
       "<Figure size 720x360 with 1 Axes>"
      ]
     },
     "metadata": {
      "needs_background": "light"
     },
     "output_type": "display_data"
    }
   ],
   "source": [
    "plt.figure(figsize=(10, 5))\n",
    "for i in range(len(X_train_anomaly[y_train_anomaly==1][:,:,0])):\n",
    "    ts = X_train_anomaly[y_train_anomaly==1][i,:,0]\n",
    "    plt.plot(range(len(ts)), ts, c='tab:blue', label='normal' if i==0 else None)\n",
    "for i in range(len(X_train_anomaly[y_train_anomaly==-1][:,:,0])):\n",
    "    ts = X_train_anomaly[y_train_anomaly==-1][i,:,0]\n",
    "    plt.plot(range(len(ts)), ts, c='tab:orange', label='anomaly' if i==0 else None)\n",
    "plt.legend()\n",
    "plt.title('The time series in the train set', fontweight=\"bold\")\n",
    "plt.show()\n"
   ]
  },
  {
   "cell_type": "markdown",
   "metadata": {},
   "source": [
    "## BF algorithm:"
   ]
  },
  {
   "cell_type": "code",
   "execution_count": 14,
   "metadata": {},
   "outputs": [],
   "source": [
    "extractor = Bruteforce_extractor_mv(train_data=X_train_anomaly, test_data=X_test_anomaly)\n",
    "\n",
    "K_star = 0.02 # number of shapelets in proportion to length of time series\n",
    "L_star = 0.2 # length of shapelets in proportion to length of time series\n",
    "L = round(L_star * Q)\n",
    "K = round(K_star * Q)\n",
    "\n",
    "# REVERSE indicates whether the extracted shapelets are the furthest (True) or the nearest (False) to the majority of the time series\n",
    "reverse = False\n",
    "corr_threshold = 0.8\n",
    "pos_boundary = None\n",
    "# shapelets = extractor.extract_shapelets(K_star, L_star, pos_boundary=pos_boundary, corr_threshold=corr_threshold, reverse=reverse, sample_size=3000)\n",
    "\n",
    "# S = shapelets.sequences\n",
    "# np.save(f'../Results/GunPoint/s_reverse={reverse}pos_boundary={pos_boundary}_corr_threshold={corr_threshold}', S)\n",
    "# or load the results\n",
    "S = np.load(f'results/{data_name}/s_reverse={reverse}_L={L}_K={K}.npy')\n",
    "extractor.shapelets = Candidateset()\n",
    "extractor.shapelets.sequences = S"
   ]
  },
  {
   "cell_type": "markdown",
   "metadata": {},
   "source": [
    "Plot the shapelets:\n"
   ]
  },
  {
   "cell_type": "code",
   "execution_count": 15,
   "metadata": {},
   "outputs": [
    {
     "data": {
      "image/png": "[encoded data removed]",
      "text/plain": [
       "<Figure size 432x288 with 1 Axes>"
      ]
     },
     "metadata": {
      "needs_background": "light"
     },
     "output_type": "display_data"
    }
   ],
   "source": [
    "channel = 0\n",
    "plt.figure()\n",
    "for i in range(K):\n",
    "    shap = S[i,:,channel]\n",
    "    plt.plot(shap, label=f'shapelet{i+1}')\n",
    "plt.legend()\n",
    "plt.title('The extracted shapelets', fontweight=\"bold\")\n",
    "plt.show()"
   ]
  },
  {
   "cell_type": "code",
   "execution_count": 16,
   "metadata": {},
   "outputs": [
    {
     "name": "stdout",
     "output_type": "stream",
     "text": [
      "Type and shape of transformed train data <class 'numpy.ndarray'> (84, 3)\n",
      "Type and shape of transformed test data <class 'numpy.ndarray'> (81, 3)\n",
      "Test balanced accuracy: 0.4746376811594203\n",
      "Test AUC: 0.4528985507246377\n",
      "Test F1 score: 0.20253164556962025\n"
     ]
    },
    {
     "data": {
      "image/png": "[encoded data removed]",
      "text/plain": [
       "<Figure size 432x288 with 1 Axes>"
      ]
     },
     "metadata": {
      "needs_background": "light"
     },
     "output_type": "display_data"
    },
    {
     "data": {
      "image/png": "[encoded data removed]",
      "text/plain": [
       "<Figure size 576x432 with 1 Axes>"
      ]
     },
     "metadata": {
      "needs_background": "light"
     },
     "output_type": "display_data"
    }
   ],
   "source": [
    "# transform both train and test \n",
    "X_train_transform, X_test_transform = extractor.transform()\n",
    "print('Type and shape of transformed train data', type(X_train_transform),  X_train_transform.shape)\n",
    "print('Type and shape of transformed test data', type(X_test_transform),  X_test_transform.shape)\n",
    "\n",
    "X_anomaly = X_test_transform[y_test_anomaly==-1]\n",
    "X_normal = X_test_transform[y_test_anomaly==1]\n",
    "X_anomaly = np.mean(X_anomaly, axis=0)\n",
    "X_normal = np.mean(X_normal, axis=0)\n",
    "\n",
    "ocsvm = OneClassSVM(nu=alpha, kernel='linear')\n",
    "\n",
    "# fit the model\n",
    "ocsvm.fit(X_train_transform)\n",
    "\n",
    "# BALANCED ACCURACY\n",
    "y_test_predict = ocsvm.predict(X_test_transform)\n",
    "test_ba = balanced_accuracy_score(y_test_anomaly, y_test_predict)\n",
    "print(\"Test balanced accuracy:\", test_ba)\n",
    "\n",
    "# AUC\n",
    "y_test_scores = ocsvm.decision_function(X_test_transform)\n",
    "fpr, tpr, _ = roc_curve(y_test_anomaly, -y_test_scores, pos_label=-1)\n",
    "auc_test = auc(fpr, tpr)\n",
    "print(\"Test AUC:\", auc_test)\n",
    "\n",
    "# F1 score\n",
    "f1_test = f1_score(y_test_anomaly, y_test_predict, pos_label=-1)\n",
    "print(\"Test F1 score:\", f1_test)\n",
    "\n",
    "\n",
    "# ROC curve\n",
    "fpr, tpr, _ = roc_curve(y_test_anomaly, y_test_scores)\n",
    "roc_auc = auc(fpr, tpr)\n",
    "\n",
    "plt.figure()\n",
    "plt.plot(fpr, tpr, color=\"darkorange\", lw=3, label=\"ROC curve (area = %0.2f)\" % roc_auc)\n",
    "plt.plot([0, 1], [0, 1], color=\"navy\", lw=3, linestyle=\"--\")\n",
    "plt.xlim([0.0, 1.0])\n",
    "plt.ylim([0.0, 1.05])\n",
    "plt.xlabel(\"False Positive Rate\")\n",
    "plt.ylabel(\"True Positive Rate\")\n",
    "plt.title(\"Receiver operating characteristic\")\n",
    "plt.legend(loc=\"lower right\")\n",
    "plt.grid()\n",
    "plt.show()\n",
    "\n",
    "# OVERLAPPING HISTOGRAMS PLOT of SVDD scores (test data)\n",
    "\n",
    "plt.figure(figsize=(8,6))\n",
    "plt.hist(y_test_scores[y_test_anomaly==1], bins=40, alpha=0.5, label=\"Normal\", color='black')\n",
    "plt.hist(y_test_scores[y_test_anomaly==-1], bins=40, alpha=0.5, label=\"Anomalies\", color='darkorange')\n",
    "\n",
    "plt.xlabel(\"Score\", size=14)\n",
    "plt.ylabel(\"Count\", size=14)\n",
    "plt.title(\"Histograms of OCSVM scores\", fontweight=\"bold\")\n",
    "plt.legend(loc='upper right')\n",
    "plt.show()"
   ]
  },
  {
   "cell_type": "markdown",
   "metadata": {},
   "source": [
    "## ADSL (learning shapelets):"
   ]
  },
  {
   "cell_type": "markdown",
   "metadata": {},
   "source": [
    "Implementation of Beggel's \"Anomaly Detection algorithm with Shapelet-based Feature Learning\" (ADSL).\n",
    "K Shapelets of length L are parametrized; given the shapelet transform of a multivariate time series $t^i$ with C channels:\n",
    "\\begin{equation}\n",
    "x^i = (x^i_1, \\dots, x^i_K), \\enspace x^i_k = min_{l=1,\\dots, J} \\left\\lVert s^k  - t^i_{l, l+L}\\right\\rVert^2\n",
    "\\end{equation}\n",
    "\n",
    "Define $l(x^i) = \\sum_{k=1}^K (x^i_k)^2$ the norm of the transform vector in $R^K$\n",
    "\n",
    "Given a batch of N time series, the loss to minimize is:\n",
    "\\begin{equation}\n",
    "L_S(t^1,\\dots,t^N) = \\frac{1}{N} (\\sum_{i=1}^N max(0, l(x^i) - R^2) C +  \\sum_{i=1}^N l(x^i))\n",
    "\\end{equation}\n",
    "where R is the radius of the last update of the SVDD boundary, C is the hyperparameter of the SVDD."
   ]
  },
  {
   "cell_type": "markdown",
   "metadata": {},
   "source": [
    "#### K-Means Inizialization "
   ]
  },
  {
   "cell_type": "code",
   "execution_count": 20,
   "metadata": {},
   "outputs": [
    {
     "data": {
      "image/png": "[encoded data removed]",
      "text/plain": [
       "<Figure size 432x288 with 1 Axes>"
      ]
     },
     "metadata": {
      "needs_background": "light"
     },
     "output_type": "display_data"
    },
    {
     "name": "stdout",
     "output_type": "stream",
     "text": [
      "The shape of cluster centers is torch.Size([3, 1, 38])\n"
     ]
    }
   ],
   "source": [
    "K_star =  0.02\n",
    "L_star = 0.25\n",
    "L = round(L_star*Q)\n",
    "K = round(K_star*Q)\n",
    "n_segments = N*(Q-K+1)\n",
    "clusters_centers = get_weights_via_kmeans(X_train_anomaly, len_shapelets=L, num_shapelets=K, n_segments=n_segments)\n",
    "\n",
    "\n",
    "# np.save(f'demo/data/{data_name}_clusters_K={K}_L={L}', clusters_centers)\n",
    "\n",
    "# plot the mean-shifted clusters' centers\n",
    "S_init = clusters_centers - np.mean(clusters_centers, axis=1, keepdims=True)\n",
    "\n",
    "plt.figure()\n",
    "for i in range(len(S_init)):\n",
    "    shap = S_init[i,:,]\n",
    "    plt.plot(shap, label=f'shapelet{i+1}')\n",
    "plt.legend()\n",
    "plt.title(f'{data_name} clusters centers', fontweight=\"bold\")\n",
    "plt.show()\n",
    "\n",
    "dtype = torch.float\n",
    "clusters_centers = torch.tensor(clusters_centers.transpose(0,2,1), dtype=dtype)\n",
    "clusters_centers = clusters_centers - torch.mean(clusters_centers, dim=2, keepdim=True)\n",
    "\n",
    "print(f'The shape of cluster centers is {clusters_centers.shape}') "
   ]
  },
  {
   "cell_type": "markdown",
   "metadata": {},
   "source": [
    "### TRAINING"
   ]
  },
  {
   "cell_type": "code",
   "execution_count": 31,
   "metadata": {},
   "outputs": [
    {
     "name": "stdout",
     "output_type": "stream",
     "text": [
      "Epoch: 0\n",
      "radius 0.48530582\n"
     ]
    },
    {
     "name": "stderr",
     "output_type": "stream",
     "text": [
      "Loss dist: 0.4524841606616974: 100%|██████████| 1/1 [00:00<00:00, 12.44it/s]"
     ]
    },
    {
     "name": "stdout",
     "output_type": "stream",
     "text": [
      "Loss sim: [0.19013404846191406]\n",
      "Epoch: 1\n"
     ]
    },
    {
     "name": "stderr",
     "output_type": "stream",
     "text": [
      "\n"
     ]
    },
    {
     "name": "stdout",
     "output_type": "stream",
     "text": [
      "radius 0.48198798\n"
     ]
    },
    {
     "name": "stderr",
     "output_type": "stream",
     "text": [
      "Loss dist: 0.45825719833374023: 100%|██████████| 1/1 [00:00<00:00, 12.43it/s]\n"
     ]
    },
    {
     "name": "stdout",
     "output_type": "stream",
     "text": [
      "Loss sim: [0.1912688910961151]\n",
      "Epoch: 2\n",
      "radius 0.47608888\n"
     ]
    },
    {
     "name": "stderr",
     "output_type": "stream",
     "text": [
      "Loss dist: 0.44997403025627136: 100%|██████████| 1/1 [00:00<00:00, 12.36it/s]"
     ]
    },
    {
     "name": "stdout",
     "output_type": "stream",
     "text": [
      "Loss sim: [0.18611906468868256]\n",
      "Epoch: 3\n"
     ]
    },
    {
     "name": "stderr",
     "output_type": "stream",
     "text": [
      "\n"
     ]
    },
    {
     "name": "stdout",
     "output_type": "stream",
     "text": [
      "radius 0.4855868\n"
     ]
    },
    {
     "name": "stderr",
     "output_type": "stream",
     "text": [
      "Loss dist: 0.4385722577571869: 100%|██████████| 1/1 [00:00<00:00, 12.39it/s]\n"
     ]
    },
    {
     "name": "stdout",
     "output_type": "stream",
     "text": [
      "Loss sim: [0.18394558131694794]\n",
      "Epoch: 4\n",
      "radius 0.46548784\n"
     ]
    },
    {
     "name": "stderr",
     "output_type": "stream",
     "text": [
      "Loss dist: 0.44926249980926514: 100%|██████████| 1/1 [00:00<00:00, 271.93it/s]\n"
     ]
    },
    {
     "name": "stdout",
     "output_type": "stream",
     "text": [
      "Loss sim: [0.1827167272567749]\n",
      "Epoch: 5\n",
      "radius 0.4799725\n"
     ]
    },
    {
     "name": "stderr",
     "output_type": "stream",
     "text": [
      "Loss dist: 0.4362100660800934: 100%|██████████| 1/1 [00:00<00:00, 12.35it/s]\n"
     ]
    },
    {
     "name": "stdout",
     "output_type": "stream",
     "text": [
      "Loss sim: [0.18071529269218445]\n",
      "Epoch: 6\n",
      "radius 0.47161177\n"
     ]
    },
    {
     "name": "stderr",
     "output_type": "stream",
     "text": [
      "Loss dist: 0.43979597091674805: 100%|██████████| 1/1 [00:00<00:00, 245.12it/s]\n"
     ]
    },
    {
     "name": "stdout",
     "output_type": "stream",
     "text": [
      "Loss sim: [0.17969167232513428]\n",
      "Epoch: 7\n",
      "radius 0.4685388\n"
     ]
    },
    {
     "name": "stderr",
     "output_type": "stream",
     "text": [
      "Loss dist: 0.4395035207271576: 100%|██████████| 1/1 [00:00<00:00, 12.38it/s]\n"
     ]
    },
    {
     "name": "stdout",
     "output_type": "stream",
     "text": [
      "Loss sim: [0.17886114120483398]\n",
      "Epoch: 8\n",
      "radius 0.46753448\n"
     ]
    },
    {
     "name": "stderr",
     "output_type": "stream",
     "text": [
      "Loss dist: 0.438518762588501: 100%|██████████| 1/1 [00:00<00:00, 12.16it/s]"
     ]
    },
    {
     "name": "stdout",
     "output_type": "stream",
     "text": [
      "Loss sim: [0.17731082439422607]\n",
      "Epoch: 9\n"
     ]
    },
    {
     "name": "stderr",
     "output_type": "stream",
     "text": [
      "\n"
     ]
    },
    {
     "name": "stdout",
     "output_type": "stream",
     "text": [
      "radius 0.4656122\n"
     ]
    },
    {
     "name": "stderr",
     "output_type": "stream",
     "text": [
      "Loss dist: 0.43798819184303284: 100%|██████████| 1/1 [00:00<00:00, 292.88it/s]\n"
     ]
    },
    {
     "name": "stdout",
     "output_type": "stream",
     "text": [
      "Loss sim: [0.17623139917850494]\n",
      "Epoch: 10\n",
      "radius 0.4654277\n"
     ]
    },
    {
     "name": "stderr",
     "output_type": "stream",
     "text": [
      "Loss dist: 0.4369082450866699: 100%|██████████| 1/1 [00:00<00:00, 304.27it/s]\n"
     ]
    },
    {
     "name": "stdout",
     "output_type": "stream",
     "text": [
      "Loss sim: [0.17538012564182281]\n",
      "Epoch: 11\n",
      "radius 0.4631112\n"
     ]
    },
    {
     "name": "stderr",
     "output_type": "stream",
     "text": [
      "Loss dist: 0.43718400597572327: 100%|██████████| 1/1 [00:00<00:00, 222.77it/s]\n"
     ]
    },
    {
     "name": "stdout",
     "output_type": "stream",
     "text": [
      "Loss sim: [0.17476515471935272]\n",
      "Epoch: 12\n",
      "radius 0.46908817\n"
     ]
    },
    {
     "name": "stderr",
     "output_type": "stream",
     "text": [
      "Loss dist: 0.43224647641181946: 100%|██████████| 1/1 [00:00<00:00, 311.77it/s]\n"
     ]
    },
    {
     "name": "stdout",
     "output_type": "stream",
     "text": [
      "Loss sim: [0.1739259958267212]\n",
      "Epoch: 13\n",
      "radius 0.4650887\n"
     ]
    },
    {
     "name": "stderr",
     "output_type": "stream",
     "text": [
      "Loss dist: 0.4332468509674072: 100%|██████████| 1/1 [00:00<00:00, 305.11it/s]\n"
     ]
    },
    {
     "name": "stdout",
     "output_type": "stream",
     "text": [
      "Loss sim: [0.17437639832496643]\n",
      "Epoch: 14\n",
      "radius 0.46921456\n"
     ]
    },
    {
     "name": "stderr",
     "output_type": "stream",
     "text": [
      "Loss dist: 0.4299463927745819: 100%|██████████| 1/1 [00:00<00:00, 12.32it/s]"
     ]
    },
    {
     "name": "stdout",
     "output_type": "stream",
     "text": [
      "Loss sim: [0.1730707585811615]\n",
      "Epoch: 15\n"
     ]
    },
    {
     "name": "stderr",
     "output_type": "stream",
     "text": [
      "\n"
     ]
    },
    {
     "name": "stdout",
     "output_type": "stream",
     "text": [
      "radius 0.46737552\n"
     ]
    },
    {
     "name": "stderr",
     "output_type": "stream",
     "text": [
      "Loss dist: 0.4291292428970337: 100%|██████████| 1/1 [00:00<00:00, 12.47it/s]"
     ]
    },
    {
     "name": "stdout",
     "output_type": "stream",
     "text": [
      "Loss sim: [0.17344029247760773]\n",
      "Epoch: 16\n"
     ]
    },
    {
     "name": "stderr",
     "output_type": "stream",
     "text": [
      "\n"
     ]
    },
    {
     "name": "stdout",
     "output_type": "stream",
     "text": [
      "radius 0.46632183\n"
     ]
    },
    {
     "name": "stderr",
     "output_type": "stream",
     "text": [
      "Loss dist: 0.42886391282081604: 100%|██████████| 1/1 [00:00<00:00, 12.39it/s]"
     ]
    },
    {
     "name": "stdout",
     "output_type": "stream",
     "text": [
      "Loss sim: [0.17218665778636932]\n",
      "Epoch: 17\n"
     ]
    },
    {
     "name": "stderr",
     "output_type": "stream",
     "text": [
      "\n"
     ]
    },
    {
     "name": "stdout",
     "output_type": "stream",
     "text": [
      "radius 0.45992598\n"
     ]
    },
    {
     "name": "stderr",
     "output_type": "stream",
     "text": [
      "Loss dist: 0.43112412095069885: 100%|██████████| 1/1 [00:00<00:00, 11.87it/s]"
     ]
    },
    {
     "name": "stdout",
     "output_type": "stream",
     "text": [
      "Loss sim: [0.17161661386489868]\n",
      "Epoch: 18\n"
     ]
    },
    {
     "name": "stderr",
     "output_type": "stream",
     "text": [
      "\n"
     ]
    },
    {
     "name": "stdout",
     "output_type": "stream",
     "text": [
      "radius 0.45617798\n"
     ]
    },
    {
     "name": "stderr",
     "output_type": "stream",
     "text": [
      "Loss dist: 0.4317179322242737: 100%|██████████| 1/1 [00:00<00:00, 11.96it/s]"
     ]
    },
    {
     "name": "stdout",
     "output_type": "stream",
     "text": [
      "Loss sim: [0.17047853767871857]\n",
      "Epoch: 19\n"
     ]
    },
    {
     "name": "stderr",
     "output_type": "stream",
     "text": [
      "\n"
     ]
    },
    {
     "name": "stdout",
     "output_type": "stream",
     "text": [
      "radius 0.45669752\n"
     ]
    },
    {
     "name": "stderr",
     "output_type": "stream",
     "text": [
      "Loss dist: 0.42879462242126465: 100%|██████████| 1/1 [00:00<00:00, 12.15it/s]"
     ]
    },
    {
     "name": "stdout",
     "output_type": "stream",
     "text": [
      "Loss sim: [0.1694403886795044]\n",
      "Epoch: 20\n"
     ]
    },
    {
     "name": "stderr",
     "output_type": "stream",
     "text": [
      "\n"
     ]
    },
    {
     "name": "stdout",
     "output_type": "stream",
     "text": [
      "radius 0.45299354\n"
     ]
    },
    {
     "name": "stderr",
     "output_type": "stream",
     "text": [
      "Loss dist: 0.428164541721344: 100%|██████████| 1/1 [00:00<00:00, 245.17it/s]\n"
     ]
    },
    {
     "name": "stdout",
     "output_type": "stream",
     "text": [
      "Loss sim: [0.16835670173168182]\n",
      "Epoch: 21\n",
      "radius 0.4442929\n"
     ]
    },
    {
     "name": "stderr",
     "output_type": "stream",
     "text": [
      "Loss dist: 0.43114393949508667: 100%|██████████| 1/1 [00:00<00:00, 12.42it/s]\n"
     ]
    },
    {
     "name": "stdout",
     "output_type": "stream",
     "text": [
      "Loss sim: [0.16793414950370789]\n",
      "Epoch: 22\n",
      "radius 0.44247183\n"
     ]
    },
    {
     "name": "stderr",
     "output_type": "stream",
     "text": [
      "Loss dist: 0.42833274602890015: 100%|██████████| 1/1 [00:00<00:00, 12.56it/s]\n"
     ]
    },
    {
     "name": "stdout",
     "output_type": "stream",
     "text": [
      "Loss sim: [0.17040756344795227]\n",
      "Epoch: 23\n",
      "radius 0.441586\n"
     ]
    },
    {
     "name": "stderr",
     "output_type": "stream",
     "text": [
      "Loss dist: 0.42690181732177734: 100%|██████████| 1/1 [00:00<00:00, 297.43it/s]\n"
     ]
    },
    {
     "name": "stdout",
     "output_type": "stream",
     "text": [
      "Loss sim: [0.16608847677707672]\n",
      "Epoch: 24\n",
      "radius 0.43484098\n"
     ]
    },
    {
     "name": "stderr",
     "output_type": "stream",
     "text": [
      "Loss dist: 0.4282436668872833: 100%|██████████| 1/1 [00:00<00:00, 301.75it/s]\n"
     ]
    },
    {
     "name": "stdout",
     "output_type": "stream",
     "text": [
      "Loss sim: [0.16589246690273285]\n",
      "Epoch: 25\n",
      "radius 0.43635085\n"
     ]
    },
    {
     "name": "stderr",
     "output_type": "stream",
     "text": [
      "Loss dist: 0.4241456985473633: 100%|██████████| 1/1 [00:00<00:00, 295.81it/s]\n"
     ]
    },
    {
     "name": "stdout",
     "output_type": "stream",
     "text": [
      "Loss sim: [0.1658981889486313]\n",
      "Epoch: 26\n",
      "radius 0.43033105\n"
     ]
    },
    {
     "name": "stderr",
     "output_type": "stream",
     "text": [
      "Loss dist: 0.4271336495876312: 100%|██████████| 1/1 [00:00<00:00, 12.34it/s]\n"
     ]
    },
    {
     "name": "stdout",
     "output_type": "stream",
     "text": [
      "Loss sim: [0.16543637216091156]\n",
      "Epoch: 27\n",
      "radius 0.42896467\n"
     ]
    },
    {
     "name": "stderr",
     "output_type": "stream",
     "text": [
      "Loss dist: 0.4260265827178955: 100%|██████████| 1/1 [00:00<00:00, 205.17it/s]\n"
     ]
    },
    {
     "name": "stdout",
     "output_type": "stream",
     "text": [
      "Loss sim: [0.16487161815166473]\n",
      "Epoch: 28\n",
      "radius 0.42725405\n"
     ]
    },
    {
     "name": "stderr",
     "output_type": "stream",
     "text": [
      "Loss dist: 0.42535972595214844: 100%|██████████| 1/1 [00:00<00:00, 216.59it/s]\n"
     ]
    },
    {
     "name": "stdout",
     "output_type": "stream",
     "text": [
      "Loss sim: [0.16499736905097961]\n",
      "Epoch: 29\n",
      "radius 0.42295185\n"
     ]
    },
    {
     "name": "stderr",
     "output_type": "stream",
     "text": [
      "Loss dist: 0.42636623978614807: 100%|██████████| 1/1 [00:00<00:00, 231.73it/s]\n"
     ]
    },
    {
     "name": "stdout",
     "output_type": "stream",
     "text": [
      "Loss sim: [0.1646074801683426]\n",
      "Epoch: 30\n",
      "radius 0.4211194\n"
     ]
    },
    {
     "name": "stderr",
     "output_type": "stream",
     "text": [
      "Loss dist: 0.4255421757698059: 100%|██████████| 1/1 [00:00<00:00, 12.37it/s]\n"
     ]
    },
    {
     "name": "stdout",
     "output_type": "stream",
     "text": [
      "Loss sim: [0.16445529460906982]\n",
      "Epoch: 31\n",
      "radius 0.41978464\n"
     ]
    },
    {
     "name": "stderr",
     "output_type": "stream",
     "text": [
      "Loss dist: 0.4250738024711609: 100%|██████████| 1/1 [00:00<00:00, 12.36it/s]\n"
     ]
    },
    {
     "name": "stdout",
     "output_type": "stream",
     "text": [
      "Loss sim: [0.1640617549419403]\n",
      "Epoch: 32\n",
      "radius 0.41805443\n"
     ]
    },
    {
     "name": "stderr",
     "output_type": "stream",
     "text": [
      "Loss dist: 0.42492973804473877: 100%|██████████| 1/1 [00:00<00:00, 12.27it/s]\n"
     ]
    },
    {
     "name": "stdout",
     "output_type": "stream",
     "text": [
      "Loss sim: [0.16384439170360565]\n",
      "Epoch: 33\n",
      "radius 0.41624174\n"
     ]
    },
    {
     "name": "stderr",
     "output_type": "stream",
     "text": [
      "Loss dist: 0.42452067136764526: 100%|██████████| 1/1 [00:00<00:00, 237.91it/s]\n"
     ]
    },
    {
     "name": "stdout",
     "output_type": "stream",
     "text": [
      "Loss sim: [0.16357240080833435]\n",
      "Epoch: 34\n",
      "radius 0.41446415\n"
     ]
    },
    {
     "name": "stderr",
     "output_type": "stream",
     "text": [
      "Loss dist: 0.4241947531700134: 100%|██████████| 1/1 [00:00<00:00, 301.94it/s]\n"
     ]
    },
    {
     "name": "stdout",
     "output_type": "stream",
     "text": [
      "Loss sim: [0.16286171972751617]\n",
      "Epoch: 35\n",
      "radius 0.41353184\n"
     ]
    },
    {
     "name": "stderr",
     "output_type": "stream",
     "text": [
      "Loss dist: 0.42299720644950867: 100%|██████████| 1/1 [00:00<00:00, 12.45it/s]\n"
     ]
    },
    {
     "name": "stdout",
     "output_type": "stream",
     "text": [
      "Loss sim: [0.16238181293010712]\n",
      "Epoch: 36\n",
      "radius 0.4102079\n"
     ]
    },
    {
     "name": "stderr",
     "output_type": "stream",
     "text": [
      "Loss dist: 0.4202457070350647: 100%|██████████| 1/1 [00:00<00:00, 12.45it/s]"
     ]
    },
    {
     "name": "stdout",
     "output_type": "stream",
     "text": [
      "Loss sim: [0.16205304861068726]\n",
      "Epoch: 37\n"
     ]
    },
    {
     "name": "stderr",
     "output_type": "stream",
     "text": [
      "\n"
     ]
    },
    {
     "name": "stdout",
     "output_type": "stream",
     "text": [
      "radius 0.4050434\n"
     ]
    },
    {
     "name": "stderr",
     "output_type": "stream",
     "text": [
      "Loss dist: 0.417103111743927: 100%|██████████| 1/1 [00:00<00:00, 12.41it/s]"
     ]
    },
    {
     "name": "stdout",
     "output_type": "stream",
     "text": [
      "Loss sim: [0.16165994107723236]\n",
      "Epoch: 38\n"
     ]
    },
    {
     "name": "stderr",
     "output_type": "stream",
     "text": [
      "\n"
     ]
    },
    {
     "name": "stdout",
     "output_type": "stream",
     "text": [
      "radius 0.4051906\n"
     ]
    },
    {
     "name": "stderr",
     "output_type": "stream",
     "text": [
      "Loss dist: 0.4074523448944092: 100%|██████████| 1/1 [00:00<00:00, 12.12it/s]"
     ]
    },
    {
     "name": "stdout",
     "output_type": "stream",
     "text": [
      "Loss sim: [0.161559596657753]\n",
      "Epoch: 39\n"
     ]
    },
    {
     "name": "stderr",
     "output_type": "stream",
     "text": [
      "\n"
     ]
    },
    {
     "name": "stdout",
     "output_type": "stream",
     "text": [
      "radius 0.40588647\n"
     ]
    },
    {
     "name": "stderr",
     "output_type": "stream",
     "text": [
      "Loss dist: 0.4012744724750519: 100%|██████████| 1/1 [00:00<00:00, 12.45it/s]"
     ]
    },
    {
     "name": "stdout",
     "output_type": "stream",
     "text": [
      "Loss sim: [0.1615075021982193]\n",
      "Epoch: 40\n"
     ]
    },
    {
     "name": "stderr",
     "output_type": "stream",
     "text": [
      "\n"
     ]
    },
    {
     "name": "stdout",
     "output_type": "stream",
     "text": [
      "radius 0.4057608\n"
     ]
    },
    {
     "name": "stderr",
     "output_type": "stream",
     "text": [
      "Loss dist: 0.39747145771980286: 100%|██████████| 1/1 [00:00<00:00, 12.35it/s]"
     ]
    },
    {
     "name": "stdout",
     "output_type": "stream",
     "text": [
      "Loss sim: [0.1607782244682312]\n",
      "Epoch: 41\n"
     ]
    },
    {
     "name": "stderr",
     "output_type": "stream",
     "text": [
      "\n"
     ]
    },
    {
     "name": "stdout",
     "output_type": "stream",
     "text": [
      "radius 0.40659177\n"
     ]
    },
    {
     "name": "stderr",
     "output_type": "stream",
     "text": [
      "Loss dist: 0.39388707280158997: 100%|██████████| 1/1 [00:00<00:00, 12.37it/s]"
     ]
    },
    {
     "name": "stdout",
     "output_type": "stream",
     "text": [
      "Loss sim: [0.16007393598556519]\n",
      "Epoch: 42\n"
     ]
    },
    {
     "name": "stderr",
     "output_type": "stream",
     "text": [
      "\n"
     ]
    },
    {
     "name": "stdout",
     "output_type": "stream",
     "text": [
      "radius 0.40581584\n"
     ]
    },
    {
     "name": "stderr",
     "output_type": "stream",
     "text": [
      "Loss dist: 0.39211705327033997: 100%|██████████| 1/1 [00:00<00:00, 12.98it/s]"
     ]
    },
    {
     "name": "stdout",
     "output_type": "stream",
     "text": [
      "Loss sim: [0.1597956418991089]\n",
      "Epoch: 43\n"
     ]
    },
    {
     "name": "stderr",
     "output_type": "stream",
     "text": [
      "\n"
     ]
    },
    {
     "name": "stdout",
     "output_type": "stream",
     "text": [
      "radius 0.40481013\n"
     ]
    },
    {
     "name": "stderr",
     "output_type": "stream",
     "text": [
      "Loss dist: 0.39083948731422424: 100%|██████████| 1/1 [00:00<00:00, 12.45it/s]"
     ]
    },
    {
     "name": "stdout",
     "output_type": "stream",
     "text": [
      "Loss sim: [0.15898731350898743]\n",
      "Epoch: 44\n"
     ]
    },
    {
     "name": "stderr",
     "output_type": "stream",
     "text": [
      "\n"
     ]
    },
    {
     "name": "stdout",
     "output_type": "stream",
     "text": [
      "radius 0.40452278\n"
     ]
    },
    {
     "name": "stderr",
     "output_type": "stream",
     "text": [
      "Loss dist: 0.3893812596797943: 100%|██████████| 1/1 [00:00<00:00, 12.44it/s]"
     ]
    },
    {
     "name": "stdout",
     "output_type": "stream",
     "text": [
      "Loss sim: [0.15802830457687378]\n",
      "Epoch: 45\n"
     ]
    },
    {
     "name": "stderr",
     "output_type": "stream",
     "text": [
      "\n"
     ]
    },
    {
     "name": "stdout",
     "output_type": "stream",
     "text": [
      "radius 0.40577528\n"
     ]
    },
    {
     "name": "stderr",
     "output_type": "stream",
     "text": [
      "Loss dist: 0.3874247670173645: 100%|██████████| 1/1 [00:00<00:00, 12.44it/s]"
     ]
    },
    {
     "name": "stdout",
     "output_type": "stream",
     "text": [
      "Loss sim: [0.15689027309417725]\n",
      "Epoch: 46\n"
     ]
    },
    {
     "name": "stderr",
     "output_type": "stream",
     "text": [
      "\n"
     ]
    },
    {
     "name": "stdout",
     "output_type": "stream",
     "text": [
      "radius 0.40041026\n"
     ]
    },
    {
     "name": "stderr",
     "output_type": "stream",
     "text": [
      "Loss dist: 0.39038002490997314: 100%|██████████| 1/1 [00:00<00:00, 11.84it/s]"
     ]
    },
    {
     "name": "stdout",
     "output_type": "stream",
     "text": [
      "Loss sim: [0.15628278255462646]\n",
      "Epoch: 47\n"
     ]
    },
    {
     "name": "stderr",
     "output_type": "stream",
     "text": [
      "\n"
     ]
    },
    {
     "name": "stdout",
     "output_type": "stream",
     "text": [
      "radius 0.40564546\n"
     ]
    },
    {
     "name": "stderr",
     "output_type": "stream",
     "text": [
      "Loss dist: 0.38631361722946167: 100%|██████████| 1/1 [00:00<00:00, 270.27it/s]\n"
     ]
    },
    {
     "name": "stdout",
     "output_type": "stream",
     "text": [
      "Loss sim: [0.15553393959999084]\n",
      "Epoch: 48\n",
      "radius 0.4065767\n"
     ]
    },
    {
     "name": "stderr",
     "output_type": "stream",
     "text": [
      "Loss dist: 0.38523969054222107: 100%|██████████| 1/1 [00:00<00:00, 142.23it/s]\n"
     ]
    },
    {
     "name": "stdout",
     "output_type": "stream",
     "text": [
      "Loss sim: [0.15501919388771057]\n",
      "Epoch: 49\n",
      "radius 0.40579832\n"
     ]
    },
    {
     "name": "stderr",
     "output_type": "stream",
     "text": [
      "Loss dist: 0.38553711771965027: 100%|██████████| 1/1 [00:00<00:00, 11.73it/s]"
     ]
    },
    {
     "name": "stdout",
     "output_type": "stream",
     "text": [
      "Loss sim: [0.15448299050331116]\n",
      "Epoch: 50\n"
     ]
    },
    {
     "name": "stderr",
     "output_type": "stream",
     "text": [
      "\n"
     ]
    },
    {
     "name": "stdout",
     "output_type": "stream",
     "text": [
      "radius 0.40664792\n"
     ]
    },
    {
     "name": "stderr",
     "output_type": "stream",
     "text": [
      "Loss dist: 0.38458624482154846: 100%|██████████| 1/1 [00:00<00:00, 13.07it/s]"
     ]
    },
    {
     "name": "stdout",
     "output_type": "stream",
     "text": [
      "Loss sim: [0.15399335324764252]\n",
      "Epoch: 51\n"
     ]
    },
    {
     "name": "stderr",
     "output_type": "stream",
     "text": [
      "\n"
     ]
    },
    {
     "name": "stdout",
     "output_type": "stream",
     "text": [
      "radius 0.40573844\n"
     ]
    },
    {
     "name": "stderr",
     "output_type": "stream",
     "text": [
      "Loss dist: 0.38518980145454407: 100%|██████████| 1/1 [00:00<00:00, 12.35it/s]"
     ]
    },
    {
     "name": "stdout",
     "output_type": "stream",
     "text": [
      "Loss sim: [0.1533491313457489]\n",
      "Epoch: 52\n"
     ]
    },
    {
     "name": "stderr",
     "output_type": "stream",
     "text": [
      "\n"
     ]
    },
    {
     "name": "stdout",
     "output_type": "stream",
     "text": [
      "radius 0.4079261\n"
     ]
    },
    {
     "name": "stderr",
     "output_type": "stream",
     "text": [
      "Loss dist: 0.383324533700943: 100%|██████████| 1/1 [00:00<00:00, 205.13it/s]\n"
     ]
    },
    {
     "name": "stdout",
     "output_type": "stream",
     "text": [
      "Loss sim: [0.15314458310604095]\n",
      "Epoch: 53\n",
      "radius 0.41954046\n"
     ]
    },
    {
     "name": "stderr",
     "output_type": "stream",
     "text": [
      "Loss dist: 0.3750118315219879: 100%|██████████| 1/1 [00:00<00:00, 12.45it/s]\n"
     ]
    },
    {
     "name": "stdout",
     "output_type": "stream",
     "text": [
      "Loss sim: [0.15296289324760437]\n",
      "Epoch: 54\n",
      "radius 0.40538517\n"
     ]
    },
    {
     "name": "stderr",
     "output_type": "stream",
     "text": [
      "Loss dist: 0.3846297860145569: 100%|██████████| 1/1 [00:00<00:00, 12.49it/s]\n"
     ]
    },
    {
     "name": "stdout",
     "output_type": "stream",
     "text": [
      "Loss sim: [0.1528775691986084]\n",
      "Epoch: 55\n",
      "radius 0.4077998\n"
     ]
    },
    {
     "name": "stderr",
     "output_type": "stream",
     "text": [
      "Loss dist: 0.3830450475215912: 100%|██████████| 1/1 [00:00<00:00, 12.41it/s]\n"
     ]
    },
    {
     "name": "stdout",
     "output_type": "stream",
     "text": [
      "Loss sim: [0.15243837237358093]\n",
      "Epoch: 56\n",
      "radius 0.40775302\n"
     ]
    },
    {
     "name": "stderr",
     "output_type": "stream",
     "text": [
      "Loss dist: 0.382992684841156: 100%|██████████| 1/1 [00:00<00:00, 12.37it/s]\n"
     ]
    },
    {
     "name": "stdout",
     "output_type": "stream",
     "text": [
      "Loss sim: [0.15227791666984558]\n",
      "Epoch: 57\n",
      "radius 0.42200455\n"
     ]
    },
    {
     "name": "stderr",
     "output_type": "stream",
     "text": [
      "Loss dist: 0.3731352388858795: 100%|██████████| 1/1 [00:00<00:00, 292.55it/s]\n"
     ]
    },
    {
     "name": "stdout",
     "output_type": "stream",
     "text": [
      "Loss sim: [0.15206341445446014]\n",
      "Epoch: 58\n",
      "radius 0.40534917\n"
     ]
    },
    {
     "name": "stderr",
     "output_type": "stream",
     "text": [
      "Loss dist: 0.3843437731266022: 100%|██████████| 1/1 [00:00<00:00, 305.51it/s]\n"
     ]
    },
    {
     "name": "stdout",
     "output_type": "stream",
     "text": [
      "Loss sim: [0.15228499472141266]\n",
      "Epoch: 59\n",
      "radius 0.4104927\n"
     ]
    },
    {
     "name": "stderr",
     "output_type": "stream",
     "text": [
      "Loss dist: 0.3809163272380829: 100%|██████████| 1/1 [00:00<00:00, 12.43it/s]\n"
     ]
    },
    {
     "name": "stdout",
     "output_type": "stream",
     "text": [
      "Loss sim: [0.1518966406583786]\n",
      "Epoch: 60\n",
      "radius 0.41018617\n"
     ]
    },
    {
     "name": "stderr",
     "output_type": "stream",
     "text": [
      "Loss dist: 0.3809753656387329: 100%|██████████| 1/1 [00:00<00:00, 12.38it/s]"
     ]
    },
    {
     "name": "stdout",
     "output_type": "stream",
     "text": [
      "Loss sim: [0.1519036442041397]\n",
      "Epoch: 61\n"
     ]
    },
    {
     "name": "stderr",
     "output_type": "stream",
     "text": [
      "\n"
     ]
    },
    {
     "name": "stdout",
     "output_type": "stream",
     "text": [
      "radius 0.4101022\n"
     ]
    },
    {
     "name": "stderr",
     "output_type": "stream",
     "text": [
      "Loss dist: 0.3810383677482605: 100%|██████████| 1/1 [00:00<00:00, 267.00it/s]\n"
     ]
    },
    {
     "name": "stdout",
     "output_type": "stream",
     "text": [
      "Loss sim: [0.15177854895591736]\n",
      "Epoch: 62\n",
      "radius 0.42213687\n"
     ]
    },
    {
     "name": "stderr",
     "output_type": "stream",
     "text": [
      "Loss dist: 0.3726973831653595: 100%|██████████| 1/1 [00:00<00:00, 12.45it/s]\n"
     ]
    },
    {
     "name": "stdout",
     "output_type": "stream",
     "text": [
      "Loss sim: [0.1516798436641693]\n",
      "Epoch: 63\n",
      "radius 0.4056606\n"
     ]
    },
    {
     "name": "stderr",
     "output_type": "stream",
     "text": [
      "Loss dist: 0.3838658928871155: 100%|██████████| 1/1 [00:00<00:00, 12.41it/s]\n"
     ]
    },
    {
     "name": "stdout",
     "output_type": "stream",
     "text": [
      "Loss sim: [0.15192434191703796]\n",
      "Epoch: 64\n",
      "radius 0.42263272\n"
     ]
    },
    {
     "name": "stderr",
     "output_type": "stream",
     "text": [
      "Loss dist: 0.372319757938385: 100%|██████████| 1/1 [00:00<00:00, 12.41it/s]\n"
     ]
    },
    {
     "name": "stdout",
     "output_type": "stream",
     "text": [
      "Loss sim: [0.15154485404491425]\n",
      "Epoch: 65\n",
      "radius 0.40597084\n"
     ]
    },
    {
     "name": "stderr",
     "output_type": "stream",
     "text": [
      "Loss dist: 0.38361024856567383: 100%|██████████| 1/1 [00:00<00:00, 308.65it/s]\n"
     ]
    },
    {
     "name": "stdout",
     "output_type": "stream",
     "text": [
      "Loss sim: [0.1517995297908783]\n",
      "Epoch: 66\n",
      "radius 0.40985984\n"
     ]
    },
    {
     "name": "stderr",
     "output_type": "stream",
     "text": [
      "Loss dist: 0.3811342120170593: 100%|██████████| 1/1 [00:00<00:00, 313.52it/s]\n"
     ]
    },
    {
     "name": "stdout",
     "output_type": "stream",
     "text": [
      "Loss sim: [0.15143431723117828]\n",
      "Epoch: 67\n",
      "radius 0.40942168\n"
     ]
    },
    {
     "name": "stderr",
     "output_type": "stream",
     "text": [
      "Loss dist: 0.38142168521881104: 100%|██████████| 1/1 [00:00<00:00, 12.35it/s]\n"
     ]
    },
    {
     "name": "stdout",
     "output_type": "stream",
     "text": [
      "Loss sim: [0.1513889729976654]\n",
      "Epoch: 68\n",
      "radius 0.409448\n"
     ]
    },
    {
     "name": "stderr",
     "output_type": "stream",
     "text": [
      "Loss dist: 0.381392240524292: 100%|██████████| 1/1 [00:00<00:00, 12.44it/s]"
     ]
    },
    {
     "name": "stdout",
     "output_type": "stream",
     "text": [
      "Loss sim: [0.15134598314762115]\n",
      "Epoch: 69\n"
     ]
    },
    {
     "name": "stderr",
     "output_type": "stream",
     "text": [
      "\n"
     ]
    },
    {
     "name": "stdout",
     "output_type": "stream",
     "text": [
      "radius 0.40936762\n"
     ]
    },
    {
     "name": "stderr",
     "output_type": "stream",
     "text": [
      "Loss dist: 0.38143131136894226: 100%|██████████| 1/1 [00:00<00:00, 12.41it/s]"
     ]
    },
    {
     "name": "stdout",
     "output_type": "stream",
     "text": [
      "Loss sim: [0.15131370723247528]\n",
      "Epoch: 70\n"
     ]
    },
    {
     "name": "stderr",
     "output_type": "stream",
     "text": [
      "\n"
     ]
    },
    {
     "name": "stdout",
     "output_type": "stream",
     "text": [
      "radius 0.40935525\n"
     ]
    },
    {
     "name": "stderr",
     "output_type": "stream",
     "text": [
      "Loss dist: 0.38143274188041687: 100%|██████████| 1/1 [00:00<00:00, 12.25it/s]"
     ]
    },
    {
     "name": "stdout",
     "output_type": "stream",
     "text": [
      "Loss sim: [0.15127752721309662]\n",
      "Epoch: 71\n"
     ]
    },
    {
     "name": "stderr",
     "output_type": "stream",
     "text": [
      "\n"
     ]
    },
    {
     "name": "stdout",
     "output_type": "stream",
     "text": [
      "radius 0.40932733\n"
     ]
    },
    {
     "name": "stderr",
     "output_type": "stream",
     "text": [
      "Loss dist: 0.38144785165786743: 100%|██████████| 1/1 [00:00<00:00, 305.40it/s]\n"
     ]
    },
    {
     "name": "stdout",
     "output_type": "stream",
     "text": [
      "Loss sim: [0.15124550461769104]\n",
      "Epoch: 72\n",
      "radius 0.40931085\n"
     ]
    },
    {
     "name": "stderr",
     "output_type": "stream",
     "text": [
      "Loss dist: 0.3814534842967987: 100%|██████████| 1/1 [00:00<00:00, 12.30it/s]\n"
     ]
    },
    {
     "name": "stdout",
     "output_type": "stream",
     "text": [
      "Loss sim: [0.15121310949325562]\n",
      "Epoch: 73\n",
      "radius 0.4092991\n"
     ]
    },
    {
     "name": "stderr",
     "output_type": "stream",
     "text": [
      "Loss dist: 0.3814584016799927: 100%|██████████| 1/1 [00:00<00:00, 12.69it/s]\n"
     ]
    },
    {
     "name": "stdout",
     "output_type": "stream",
     "text": [
      "Loss sim: [0.15118277072906494]\n",
      "Epoch: 74\n",
      "radius 0.40928882\n"
     ]
    },
    {
     "name": "stderr",
     "output_type": "stream",
     "text": [
      "Loss dist: 0.38146573305130005: 100%|██████████| 1/1 [00:00<00:00, 11.68it/s]\n"
     ]
    },
    {
     "name": "stdout",
     "output_type": "stream",
     "text": [
      "Loss sim: [0.15115393698215485]\n",
      "Epoch: 75\n",
      "radius 0.4092751\n"
     ]
    },
    {
     "name": "stderr",
     "output_type": "stream",
     "text": [
      "Loss dist: 0.38147836923599243: 100%|██████████| 1/1 [00:00<00:00, 12.35it/s]\n"
     ]
    },
    {
     "name": "stdout",
     "output_type": "stream",
     "text": [
      "Loss sim: [0.1511269509792328]\n",
      "Epoch: 76\n",
      "radius 0.4092657\n"
     ]
    },
    {
     "name": "stderr",
     "output_type": "stream",
     "text": [
      "Loss dist: 0.3814861476421356: 100%|██████████| 1/1 [00:00<00:00, 12.08it/s]\n"
     ]
    },
    {
     "name": "stdout",
     "output_type": "stream",
     "text": [
      "Loss sim: [0.15110115706920624]\n",
      "Epoch: 77\n",
      "radius 0.40925318\n"
     ]
    },
    {
     "name": "stderr",
     "output_type": "stream",
     "text": [
      "Loss dist: 0.3814984858036041: 100%|██████████| 1/1 [00:00<00:00, 12.42it/s]\n"
     ]
    },
    {
     "name": "stdout",
     "output_type": "stream",
     "text": [
      "Loss sim: [0.15107667446136475]\n",
      "Epoch: 78\n",
      "radius 0.40924737\n"
     ]
    },
    {
     "name": "stderr",
     "output_type": "stream",
     "text": [
      "Loss dist: 0.38150471448898315: 100%|██████████| 1/1 [00:00<00:00, 176.57it/s]\n"
     ]
    },
    {
     "name": "stdout",
     "output_type": "stream",
     "text": [
      "Loss sim: [0.15105420351028442]\n",
      "Epoch: 79\n",
      "radius 0.40924534\n"
     ]
    },
    {
     "name": "stderr",
     "output_type": "stream",
     "text": [
      "Loss dist: 0.38150927424430847: 100%|██████████| 1/1 [00:00<00:00, 306.78it/s]\n"
     ]
    },
    {
     "name": "stdout",
     "output_type": "stream",
     "text": [
      "Loss sim: [0.1510336548089981]\n",
      "Epoch: 80\n",
      "radius 0.40923682\n"
     ]
    },
    {
     "name": "stderr",
     "output_type": "stream",
     "text": [
      "Loss dist: 0.3815186023712158: 100%|██████████| 1/1 [00:00<00:00, 285.35it/s]\n"
     ]
    },
    {
     "name": "stdout",
     "output_type": "stream",
     "text": [
      "Loss sim: [0.15101391077041626]\n",
      "Epoch: 81\n",
      "radius 0.40923044\n"
     ]
    },
    {
     "name": "stderr",
     "output_type": "stream",
     "text": [
      "Loss dist: 0.3815262019634247: 100%|██████████| 1/1 [00:00<00:00, 295.48it/s]\n"
     ]
    },
    {
     "name": "stdout",
     "output_type": "stream",
     "text": [
      "Loss sim: [0.15099464356899261]\n",
      "Epoch: 82\n",
      "radius 0.40922725\n"
     ]
    },
    {
     "name": "stderr",
     "output_type": "stream",
     "text": [
      "Loss dist: 0.3815320134162903: 100%|██████████| 1/1 [00:00<00:00, 294.63it/s]\n"
     ]
    },
    {
     "name": "stdout",
     "output_type": "stream",
     "text": [
      "Loss sim: [0.15097776055335999]\n",
      "Epoch: 83\n",
      "radius 0.40922496\n"
     ]
    },
    {
     "name": "stderr",
     "output_type": "stream",
     "text": [
      "Loss dist: 0.38154172897338867: 100%|██████████| 1/1 [00:00<00:00, 298.34it/s]\n"
     ]
    },
    {
     "name": "stdout",
     "output_type": "stream",
     "text": [
      "Loss sim: [0.1509605348110199]\n",
      "Epoch: 84\n",
      "radius 0.40921614\n"
     ]
    },
    {
     "name": "stderr",
     "output_type": "stream",
     "text": [
      "Loss dist: 0.381551057100296: 100%|██████████| 1/1 [00:00<00:00, 11.83it/s]\n"
     ]
    },
    {
     "name": "stdout",
     "output_type": "stream",
     "text": [
      "Loss sim: [0.1509438157081604]\n",
      "Epoch: 85\n",
      "radius 0.40920803\n"
     ]
    },
    {
     "name": "stderr",
     "output_type": "stream",
     "text": [
      "Loss dist: 0.3815624713897705: 100%|██████████| 1/1 [00:00<00:00, 12.48it/s]"
     ]
    },
    {
     "name": "stdout",
     "output_type": "stream",
     "text": [
      "Loss sim: [0.15092739462852478]\n",
      "Epoch: 86\n"
     ]
    },
    {
     "name": "stderr",
     "output_type": "stream",
     "text": [
      "\n"
     ]
    },
    {
     "name": "stdout",
     "output_type": "stream",
     "text": [
      "radius 0.40920416\n"
     ]
    },
    {
     "name": "stderr",
     "output_type": "stream",
     "text": [
      "Loss dist: 0.3815702795982361: 100%|██████████| 1/1 [00:00<00:00, 12.18it/s]\n"
     ]
    },
    {
     "name": "stdout",
     "output_type": "stream",
     "text": [
      "Loss sim: [0.15091204643249512]\n",
      "Epoch: 87\n",
      "radius 0.40920106\n"
     ]
    },
    {
     "name": "stderr",
     "output_type": "stream",
     "text": [
      "Loss dist: 0.3815814256668091: 100%|██████████| 1/1 [00:00<00:00, 294.42it/s]\n"
     ]
    },
    {
     "name": "stdout",
     "output_type": "stream",
     "text": [
      "Loss sim: [0.15089748799800873]\n",
      "Epoch: 88\n",
      "radius 0.40919143\n"
     ]
    },
    {
     "name": "stderr",
     "output_type": "stream",
     "text": [
      "Loss dist: 0.38159552216529846: 100%|██████████| 1/1 [00:00<00:00, 12.45it/s]\n"
     ]
    },
    {
     "name": "stdout",
     "output_type": "stream",
     "text": [
      "Loss sim: [0.15088364481925964]\n",
      "Epoch: 89\n",
      "radius 0.40918636\n"
     ]
    },
    {
     "name": "stderr",
     "output_type": "stream",
     "text": [
      "Loss dist: 0.38160255551338196: 100%|██████████| 1/1 [00:00<00:00, 209.90it/s]\n"
     ]
    },
    {
     "name": "stdout",
     "output_type": "stream",
     "text": [
      "Loss sim: [0.15087050199508667]\n",
      "Epoch: 90\n",
      "radius 0.40346882\n"
     ]
    },
    {
     "name": "stderr",
     "output_type": "stream",
     "text": [
      "Loss dist: 0.38572221994400024: 100%|██████████| 1/1 [00:00<00:00, 12.38it/s]\n"
     ]
    },
    {
     "name": "stdout",
     "output_type": "stream",
     "text": [
      "Loss sim: [0.15066905319690704]\n",
      "Epoch: 91\n",
      "radius 0.40778613\n"
     ]
    },
    {
     "name": "stderr",
     "output_type": "stream",
     "text": [
      "Loss dist: 0.3828873038291931: 100%|██████████| 1/1 [00:00<00:00, 12.39it/s]\n"
     ]
    },
    {
     "name": "stdout",
     "output_type": "stream",
     "text": [
      "Loss sim: [0.15045545995235443]\n",
      "Epoch: 92\n",
      "radius 0.4078135\n"
     ]
    },
    {
     "name": "stderr",
     "output_type": "stream",
     "text": [
      "Loss dist: 0.38289910554885864: 100%|██████████| 1/1 [00:00<00:00, 12.23it/s]\n"
     ]
    },
    {
     "name": "stdout",
     "output_type": "stream",
     "text": [
      "Loss sim: [0.15039698779582977]\n",
      "Epoch: 93\n",
      "radius 0.40663326\n"
     ]
    },
    {
     "name": "stderr",
     "output_type": "stream",
     "text": [
      "Loss dist: 0.38385871052742004: 100%|██████████| 1/1 [00:00<00:00, 12.23it/s]\n"
     ]
    },
    {
     "name": "stdout",
     "output_type": "stream",
     "text": [
      "Loss sim: [0.15012291073799133]\n",
      "Epoch: 94\n",
      "radius 0.4048501\n"
     ]
    },
    {
     "name": "stderr",
     "output_type": "stream",
     "text": [
      "Loss dist: 0.38523808121681213: 100%|██████████| 1/1 [00:00<00:00, 11.87it/s]\n"
     ]
    },
    {
     "name": "stdout",
     "output_type": "stream",
     "text": [
      "Loss sim: [0.14963223040103912]\n",
      "Epoch: 95\n",
      "radius 0.40568352\n"
     ]
    },
    {
     "name": "stderr",
     "output_type": "stream",
     "text": [
      "Loss dist: 0.3847448229789734: 100%|██████████| 1/1 [00:00<00:00, 297.49it/s]\n"
     ]
    },
    {
     "name": "stdout",
     "output_type": "stream",
     "text": [
      "Loss sim: [0.14902949333190918]\n",
      "Epoch: 96\n",
      "radius 0.40546265\n"
     ]
    },
    {
     "name": "stderr",
     "output_type": "stream",
     "text": [
      "Loss dist: 0.3849904537200928: 100%|██████████| 1/1 [00:00<00:00, 12.45it/s]\n"
     ]
    },
    {
     "name": "stdout",
     "output_type": "stream",
     "text": [
      "Loss sim: [0.14864031970500946]\n",
      "Epoch: 97\n",
      "radius 0.40576363\n"
     ]
    },
    {
     "name": "stderr",
     "output_type": "stream",
     "text": [
      "Loss dist: 0.3848298490047455: 100%|██████████| 1/1 [00:00<00:00, 12.29it/s]\n"
     ]
    },
    {
     "name": "stdout",
     "output_type": "stream",
     "text": [
      "Loss sim: [0.14830413460731506]\n",
      "Epoch: 98\n",
      "radius 0.40487862\n"
     ]
    },
    {
     "name": "stderr",
     "output_type": "stream",
     "text": [
      "Loss dist: 0.3854609727859497: 100%|██████████| 1/1 [00:00<00:00, 12.36it/s]\n"
     ]
    },
    {
     "name": "stdout",
     "output_type": "stream",
     "text": [
      "Loss sim: [0.14763587713241577]\n",
      "Epoch: 99\n",
      "radius 0.4040166\n"
     ]
    },
    {
     "name": "stderr",
     "output_type": "stream",
     "text": [
      "Loss dist: 0.3861844837665558: 100%|██████████| 1/1 [00:00<00:00, 12.41it/s]\n"
     ]
    },
    {
     "name": "stdout",
     "output_type": "stream",
     "text": [
      "Loss sim: [0.14708544313907623]\n",
      "Epoch: 100\n",
      "radius 0.4035717\n"
     ]
    },
    {
     "name": "stderr",
     "output_type": "stream",
     "text": [
      "Loss dist: 0.38656532764434814: 100%|██████████| 1/1 [00:00<00:00, 12.41it/s]\n"
     ]
    },
    {
     "name": "stdout",
     "output_type": "stream",
     "text": [
      "Loss sim: [0.1468057930469513]\n",
      "Epoch: 101\n",
      "radius 0.40451148\n"
     ]
    },
    {
     "name": "stderr",
     "output_type": "stream",
     "text": [
      "Loss dist: 0.3860834836959839: 100%|██████████| 1/1 [00:00<00:00, 11.96it/s]\n"
     ]
    },
    {
     "name": "stdout",
     "output_type": "stream",
     "text": [
      "Loss sim: [0.14653263986110687]\n",
      "Epoch: 102\n",
      "radius 0.403423\n"
     ]
    },
    {
     "name": "stderr",
     "output_type": "stream",
     "text": [
      "Loss dist: 0.3869323134422302: 100%|██████████| 1/1 [00:00<00:00, 247.00it/s]\n"
     ]
    },
    {
     "name": "stdout",
     "output_type": "stream",
     "text": [
      "Loss sim: [0.14617574214935303]\n",
      "Epoch: 103\n",
      "radius 0.40370405\n"
     ]
    },
    {
     "name": "stderr",
     "output_type": "stream",
     "text": [
      "Loss dist: 0.3868394196033478: 100%|██████████| 1/1 [00:00<00:00, 12.66it/s]\n"
     ]
    },
    {
     "name": "stdout",
     "output_type": "stream",
     "text": [
      "Loss sim: [0.14556890726089478]\n",
      "Epoch: 104\n",
      "radius 0.40327975\n"
     ]
    },
    {
     "name": "stderr",
     "output_type": "stream",
     "text": [
      "Loss dist: 0.38710078597068787: 100%|██████████| 1/1 [00:00<00:00, 12.42it/s]\n"
     ]
    },
    {
     "name": "stdout",
     "output_type": "stream",
     "text": [
      "Loss sim: [0.1447674036026001]\n",
      "Epoch: 105\n",
      "radius 0.40227354\n"
     ]
    },
    {
     "name": "stderr",
     "output_type": "stream",
     "text": [
      "Loss dist: 0.3877204656600952: 100%|██████████| 1/1 [00:00<00:00, 12.36it/s]\n"
     ]
    },
    {
     "name": "stdout",
     "output_type": "stream",
     "text": [
      "Loss sim: [0.14397859573364258]\n",
      "Epoch: 106\n",
      "radius 0.40159002\n"
     ]
    },
    {
     "name": "stderr",
     "output_type": "stream",
     "text": [
      "Loss dist: 0.3878503441810608: 100%|██████████| 1/1 [00:00<00:00, 11.80it/s]\n"
     ]
    },
    {
     "name": "stdout",
     "output_type": "stream",
     "text": [
      "Loss sim: [0.14313805103302002]\n",
      "Epoch: 107\n",
      "radius 0.40125805\n"
     ]
    },
    {
     "name": "stderr",
     "output_type": "stream",
     "text": [
      "Loss dist: 0.3880290687084198: 100%|██████████| 1/1 [00:00<00:00, 294.75it/s]\n"
     ]
    },
    {
     "name": "stdout",
     "output_type": "stream",
     "text": [
      "Loss sim: [0.14238686859607697]\n",
      "Epoch: 108\n",
      "radius 0.40094307\n"
     ]
    },
    {
     "name": "stderr",
     "output_type": "stream",
     "text": [
      "Loss dist: 0.3880261182785034: 100%|██████████| 1/1 [00:00<00:00, 296.92it/s]\n"
     ]
    },
    {
     "name": "stdout",
     "output_type": "stream",
     "text": [
      "Loss sim: [0.14175602793693542]\n",
      "Epoch: 109\n",
      "radius 0.42362988\n"
     ]
    },
    {
     "name": "stderr",
     "output_type": "stream",
     "text": [
      "Loss dist: 0.3720916211605072: 100%|██████████| 1/1 [00:00<00:00, 295.96it/s]\n"
     ]
    },
    {
     "name": "stdout",
     "output_type": "stream",
     "text": [
      "Loss sim: [0.14105841517448425]\n",
      "Epoch: 110\n",
      "radius 0.39833963\n"
     ]
    },
    {
     "name": "stderr",
     "output_type": "stream",
     "text": [
      "Loss dist: 0.38881543278694153: 100%|██████████| 1/1 [00:00<00:00, 12.24it/s]\n"
     ]
    },
    {
     "name": "stdout",
     "output_type": "stream",
     "text": [
      "Loss sim: [0.14067022502422333]\n",
      "Epoch: 111\n",
      "radius 0.40220213\n"
     ]
    },
    {
     "name": "stderr",
     "output_type": "stream",
     "text": [
      "Loss dist: 0.3863922953605652: 100%|██████████| 1/1 [00:00<00:00, 12.36it/s]\n"
     ]
    },
    {
     "name": "stdout",
     "output_type": "stream",
     "text": [
      "Loss sim: [0.13923856616020203]\n",
      "Epoch: 112\n",
      "radius 0.40180203\n"
     ]
    },
    {
     "name": "stderr",
     "output_type": "stream",
     "text": [
      "Loss dist: 0.38630905747413635: 100%|██████████| 1/1 [00:00<00:00, 12.24it/s]"
     ]
    },
    {
     "name": "stdout",
     "output_type": "stream",
     "text": [
      "Loss sim: [0.1385844200849533]\n",
      "Epoch: 113\n"
     ]
    },
    {
     "name": "stderr",
     "output_type": "stream",
     "text": [
      "\n"
     ]
    },
    {
     "name": "stdout",
     "output_type": "stream",
     "text": [
      "radius 0.40314585\n"
     ]
    },
    {
     "name": "stderr",
     "output_type": "stream",
     "text": [
      "Loss dist: 0.38545525074005127: 100%|██████████| 1/1 [00:00<00:00, 12.15it/s]\n"
     ]
    },
    {
     "name": "stdout",
     "output_type": "stream",
     "text": [
      "Loss sim: [0.13779957592487335]\n",
      "Epoch: 114\n",
      "radius 0.42749977\n"
     ]
    },
    {
     "name": "stderr",
     "output_type": "stream",
     "text": [
      "Loss dist: 0.36883997917175293: 100%|██████████| 1/1 [00:00<00:00, 12.43it/s]"
     ]
    },
    {
     "name": "stdout",
     "output_type": "stream",
     "text": [
      "Loss sim: [0.1372186243534088]\n",
      "Epoch: 115\n"
     ]
    },
    {
     "name": "stderr",
     "output_type": "stream",
     "text": [
      "\n"
     ]
    },
    {
     "name": "stdout",
     "output_type": "stream",
     "text": [
      "radius 0.39789745\n"
     ]
    },
    {
     "name": "stderr",
     "output_type": "stream",
     "text": [
      "Loss dist: 0.38861289620399475: 100%|██████████| 1/1 [00:00<00:00, 217.64it/s]\n"
     ]
    },
    {
     "name": "stdout",
     "output_type": "stream",
     "text": [
      "Loss sim: [0.1376757025718689]\n",
      "Epoch: 116\n",
      "radius 0.40318426\n"
     ]
    },
    {
     "name": "stderr",
     "output_type": "stream",
     "text": [
      "Loss dist: 0.3853118419647217: 100%|██████████| 1/1 [00:00<00:00, 216.09it/s]\n"
     ]
    },
    {
     "name": "stdout",
     "output_type": "stream",
     "text": [
      "Loss sim: [0.1369037628173828]\n",
      "Epoch: 117\n",
      "radius 0.40449917\n"
     ]
    },
    {
     "name": "stderr",
     "output_type": "stream",
     "text": [
      "Loss dist: 0.3846345543861389: 100%|██████████| 1/1 [00:00<00:00, 215.36it/s]\n"
     ]
    },
    {
     "name": "stdout",
     "output_type": "stream",
     "text": [
      "Loss sim: [0.13641628623008728]\n",
      "Epoch: 118\n",
      "radius 0.4039018\n"
     ]
    },
    {
     "name": "stderr",
     "output_type": "stream",
     "text": [
      "Loss dist: 0.3849969804286957: 100%|██████████| 1/1 [00:00<00:00, 12.37it/s]\n"
     ]
    },
    {
     "name": "stdout",
     "output_type": "stream",
     "text": [
      "Loss sim: [0.13634932041168213]\n",
      "Epoch: 119\n",
      "radius 0.4048831\n"
     ]
    },
    {
     "name": "stderr",
     "output_type": "stream",
     "text": [
      "Loss dist: 0.38446545600891113: 100%|██████████| 1/1 [00:00<00:00, 12.34it/s]\n"
     ]
    },
    {
     "name": "stdout",
     "output_type": "stream",
     "text": [
      "Loss sim: [0.13611814379692078]\n",
      "Epoch: 120\n",
      "radius 0.40429628\n"
     ]
    },
    {
     "name": "stderr",
     "output_type": "stream",
     "text": [
      "Loss dist: 0.38482409715652466: 100%|██████████| 1/1 [00:00<00:00, 12.38it/s]\n"
     ]
    },
    {
     "name": "stdout",
     "output_type": "stream",
     "text": [
      "Loss sim: [0.1361062377691269]\n",
      "Epoch: 121\n",
      "radius 0.40412933\n"
     ]
    },
    {
     "name": "stderr",
     "output_type": "stream",
     "text": [
      "Loss dist: 0.38495200872421265: 100%|██████████| 1/1 [00:00<00:00, 12.10it/s]\n"
     ]
    },
    {
     "name": "stdout",
     "output_type": "stream",
     "text": [
      "Loss sim: [0.13605765998363495]\n",
      "Epoch: 122\n",
      "radius 0.4041336\n"
     ]
    },
    {
     "name": "stderr",
     "output_type": "stream",
     "text": [
      "Loss dist: 0.38497528433799744: 100%|██████████| 1/1 [00:00<00:00, 12.40it/s]\n"
     ]
    },
    {
     "name": "stdout",
     "output_type": "stream",
     "text": [
      "Loss sim: [0.1359984427690506]\n",
      "Epoch: 123\n",
      "radius 0.40419495\n"
     ]
    },
    {
     "name": "stderr",
     "output_type": "stream",
     "text": [
      "Loss dist: 0.38496989011764526: 100%|██████████| 1/1 [00:00<00:00, 12.34it/s]\n"
     ]
    },
    {
     "name": "stdout",
     "output_type": "stream",
     "text": [
      "Loss sim: [0.13594591617584229]\n",
      "Epoch: 124\n",
      "radius 0.40428278\n"
     ]
    },
    {
     "name": "stderr",
     "output_type": "stream",
     "text": [
      "Loss dist: 0.38494279980659485: 100%|██████████| 1/1 [00:00<00:00, 235.69it/s]\n"
     ]
    },
    {
     "name": "stdout",
     "output_type": "stream",
     "text": [
      "Loss sim: [0.13589724898338318]\n",
      "Epoch: 125\n",
      "radius 0.4043711\n"
     ]
    },
    {
     "name": "stderr",
     "output_type": "stream",
     "text": [
      "Loss dist: 0.38490724563598633: 100%|██████████| 1/1 [00:00<00:00, 300.13it/s]\n"
     ]
    },
    {
     "name": "stdout",
     "output_type": "stream",
     "text": [
      "Loss sim: [0.1358555108308792]\n",
      "Epoch: 126\n",
      "radius 0.4044575\n"
     ]
    },
    {
     "name": "stderr",
     "output_type": "stream",
     "text": [
      "Loss dist: 0.3848770260810852: 100%|██████████| 1/1 [00:00<00:00, 289.66it/s]\n"
     ]
    },
    {
     "name": "stdout",
     "output_type": "stream",
     "text": [
      "Loss sim: [0.13581854104995728]\n",
      "Epoch: 127\n",
      "radius 0.40454173\n"
     ]
    },
    {
     "name": "stderr",
     "output_type": "stream",
     "text": [
      "Loss dist: 0.3848402500152588: 100%|██████████| 1/1 [00:00<00:00, 12.46it/s]\n"
     ]
    },
    {
     "name": "stdout",
     "output_type": "stream",
     "text": [
      "Loss sim: [0.1357862502336502]\n",
      "Epoch: 128\n",
      "radius 0.4046221\n"
     ]
    },
    {
     "name": "stderr",
     "output_type": "stream",
     "text": [
      "Loss dist: 0.38480788469314575: 100%|██████████| 1/1 [00:00<00:00, 12.32it/s]\n"
     ]
    },
    {
     "name": "stdout",
     "output_type": "stream",
     "text": [
      "Loss sim: [0.13575774431228638]\n",
      "Epoch: 129\n",
      "radius 0.4046935\n"
     ]
    },
    {
     "name": "stderr",
     "output_type": "stream",
     "text": [
      "Loss dist: 0.3847775459289551: 100%|██████████| 1/1 [00:00<00:00, 68.69it/s]\n"
     ]
    },
    {
     "name": "stdout",
     "output_type": "stream",
     "text": [
      "Loss sim: [0.135732501745224]\n",
      "Epoch: 130\n",
      "radius 0.40476206\n"
     ]
    },
    {
     "name": "stderr",
     "output_type": "stream",
     "text": [
      "Loss dist: 0.38474708795547485: 100%|██████████| 1/1 [00:00<00:00, 12.37it/s]\n"
     ]
    },
    {
     "name": "stdout",
     "output_type": "stream",
     "text": [
      "Loss sim: [0.1357100009918213]\n",
      "Epoch: 131\n",
      "radius 0.40482387\n"
     ]
    },
    {
     "name": "stderr",
     "output_type": "stream",
     "text": [
      "Loss dist: 0.3847205340862274: 100%|██████████| 1/1 [00:00<00:00, 12.21it/s]"
     ]
    },
    {
     "name": "stdout",
     "output_type": "stream",
     "text": [
      "Loss sim: [0.135689839720726]\n",
      "Epoch: 132\n"
     ]
    },
    {
     "name": "stderr",
     "output_type": "stream",
     "text": [
      "\n"
     ]
    },
    {
     "name": "stdout",
     "output_type": "stream",
     "text": [
      "radius 0.4050226\n"
     ]
    },
    {
     "name": "stderr",
     "output_type": "stream",
     "text": [
      "Loss dist: 0.3846759796142578: 100%|██████████| 1/1 [00:00<00:00, 12.10it/s]\n"
     ]
    },
    {
     "name": "stdout",
     "output_type": "stream",
     "text": [
      "Loss sim: [0.13558273017406464]\n",
      "Epoch: 133\n",
      "radius 0.40505925\n"
     ]
    },
    {
     "name": "stderr",
     "output_type": "stream",
     "text": [
      "Loss dist: 0.38467544317245483: 100%|██████████| 1/1 [00:00<00:00, 12.27it/s]"
     ]
    },
    {
     "name": "stdout",
     "output_type": "stream",
     "text": [
      "Loss sim: [0.13555167615413666]\n",
      "Epoch: 134\n"
     ]
    },
    {
     "name": "stderr",
     "output_type": "stream",
     "text": [
      "\n"
     ]
    },
    {
     "name": "stdout",
     "output_type": "stream",
     "text": [
      "radius 0.40511435\n"
     ]
    },
    {
     "name": "stderr",
     "output_type": "stream",
     "text": [
      "Loss dist: 0.3846641182899475: 100%|██████████| 1/1 [00:00<00:00, 12.39it/s]\n"
     ]
    },
    {
     "name": "stdout",
     "output_type": "stream",
     "text": [
      "Loss sim: [0.1355237513780594]\n",
      "Epoch: 135\n",
      "radius 0.40516317\n"
     ]
    },
    {
     "name": "stderr",
     "output_type": "stream",
     "text": [
      "Loss dist: 0.38464680314064026: 100%|██████████| 1/1 [00:00<00:00, 11.95it/s]"
     ]
    },
    {
     "name": "stdout",
     "output_type": "stream",
     "text": [
      "Loss sim: [0.13550156354904175]\n",
      "Epoch: 136\n"
     ]
    },
    {
     "name": "stderr",
     "output_type": "stream",
     "text": [
      "\n"
     ]
    },
    {
     "name": "stdout",
     "output_type": "stream",
     "text": [
      "radius 0.40521744\n"
     ]
    },
    {
     "name": "stderr",
     "output_type": "stream",
     "text": [
      "Loss dist: 0.3846236765384674: 100%|██████████| 1/1 [00:00<00:00, 296.75it/s]\n"
     ]
    },
    {
     "name": "stdout",
     "output_type": "stream",
     "text": [
      "Loss sim: [0.13548168540000916]\n",
      "Epoch: 137\n",
      "radius 0.40527192\n"
     ]
    },
    {
     "name": "stderr",
     "output_type": "stream",
     "text": [
      "Loss dist: 0.38460516929626465: 100%|██████████| 1/1 [00:00<00:00, 12.47it/s]\n"
     ]
    },
    {
     "name": "stdout",
     "output_type": "stream",
     "text": [
      "Loss sim: [0.13546469807624817]\n",
      "Epoch: 138\n",
      "radius 0.40531948\n"
     ]
    },
    {
     "name": "stderr",
     "output_type": "stream",
     "text": [
      "Loss dist: 0.38458341360092163: 100%|██████████| 1/1 [00:00<00:00, 12.36it/s]\n"
     ]
    },
    {
     "name": "stdout",
     "output_type": "stream",
     "text": [
      "Loss sim: [0.13544967770576477]\n",
      "Epoch: 139\n",
      "radius 0.40536606\n"
     ]
    },
    {
     "name": "stderr",
     "output_type": "stream",
     "text": [
      "Loss dist: 0.3845612704753876: 100%|██████████| 1/1 [00:00<00:00, 12.35it/s]\n"
     ]
    },
    {
     "name": "stdout",
     "output_type": "stream",
     "text": [
      "Loss sim: [0.1354362517595291]\n",
      "Epoch: 140\n",
      "radius 0.40540555\n"
     ]
    },
    {
     "name": "stderr",
     "output_type": "stream",
     "text": [
      "Loss dist: 0.3845416307449341: 100%|██████████| 1/1 [00:00<00:00, 12.36it/s]\n"
     ]
    },
    {
     "name": "stdout",
     "output_type": "stream",
     "text": [
      "Loss sim: [0.13542421162128448]\n",
      "Epoch: 141\n",
      "radius 0.40544644\n"
     ]
    },
    {
     "name": "stderr",
     "output_type": "stream",
     "text": [
      "Loss dist: 0.38452577590942383: 100%|██████████| 1/1 [00:00<00:00, 12.53it/s]\n"
     ]
    },
    {
     "name": "stdout",
     "output_type": "stream",
     "text": [
      "Loss sim: [0.13541334867477417]\n",
      "Epoch: 142\n",
      "radius 0.40548125\n"
     ]
    },
    {
     "name": "stderr",
     "output_type": "stream",
     "text": [
      "Loss dist: 0.38450825214385986: 100%|██████████| 1/1 [00:00<00:00, 319.49it/s]\n"
     ]
    },
    {
     "name": "stdout",
     "output_type": "stream",
     "text": [
      "Loss sim: [0.13540348410606384]\n",
      "Epoch: 143\n",
      "radius 0.40551233\n"
     ]
    },
    {
     "name": "stderr",
     "output_type": "stream",
     "text": [
      "Loss dist: 0.3844970464706421: 100%|██████████| 1/1 [00:00<00:00, 237.44it/s]\n"
     ]
    },
    {
     "name": "stdout",
     "output_type": "stream",
     "text": [
      "Loss sim: [0.1353943943977356]\n",
      "Epoch: 144\n",
      "radius 0.4055483\n"
     ]
    },
    {
     "name": "stderr",
     "output_type": "stream",
     "text": [
      "Loss dist: 0.38447779417037964: 100%|██████████| 1/1 [00:00<00:00, 295.29it/s]\n"
     ]
    },
    {
     "name": "stdout",
     "output_type": "stream",
     "text": [
      "Loss sim: [0.13538604974746704]\n",
      "Epoch: 145\n",
      "radius 0.4055733\n"
     ]
    },
    {
     "name": "stderr",
     "output_type": "stream",
     "text": [
      "Loss dist: 0.38446563482284546: 100%|██████████| 1/1 [00:00<00:00, 12.52it/s]\n"
     ]
    },
    {
     "name": "stdout",
     "output_type": "stream",
     "text": [
      "Loss sim: [0.1353783756494522]\n",
      "Epoch: 146\n",
      "radius 0.40560174\n"
     ]
    },
    {
     "name": "stderr",
     "output_type": "stream",
     "text": [
      "Loss dist: 0.384455144405365: 100%|██████████| 1/1 [00:00<00:00, 67.87it/s]"
     ]
    },
    {
     "name": "stdout",
     "output_type": "stream",
     "text": [
      "Loss sim: [0.1353711634874344]\n",
      "Epoch: 147\n"
     ]
    },
    {
     "name": "stderr",
     "output_type": "stream",
     "text": [
      "\n"
     ]
    },
    {
     "name": "stdout",
     "output_type": "stream",
     "text": [
      "radius 0.40562543\n"
     ]
    },
    {
     "name": "stderr",
     "output_type": "stream",
     "text": [
      "Loss dist: 0.38444197177886963: 100%|██████████| 1/1 [00:00<00:00, 12.39it/s]\n"
     ]
    },
    {
     "name": "stdout",
     "output_type": "stream",
     "text": [
      "Loss sim: [0.13536450266838074]\n",
      "Epoch: 148\n",
      "radius 0.40565112\n"
     ]
    },
    {
     "name": "stderr",
     "output_type": "stream",
     "text": [
      "Loss dist: 0.3844313621520996: 100%|██████████| 1/1 [00:00<00:00, 12.36it/s]"
     ]
    },
    {
     "name": "stdout",
     "output_type": "stream",
     "text": [
      "Loss sim: [0.1353582888841629]\n",
      "Epoch: 149\n"
     ]
    },
    {
     "name": "stderr",
     "output_type": "stream",
     "text": [
      "\n"
     ]
    },
    {
     "name": "stdout",
     "output_type": "stream",
     "text": [
      "radius 0.40567115\n"
     ]
    },
    {
     "name": "stderr",
     "output_type": "stream",
     "text": [
      "Loss dist: 0.3844209909439087: 100%|██████████| 1/1 [00:00<00:00, 12.44it/s]"
     ]
    },
    {
     "name": "stdout",
     "output_type": "stream",
     "text": [
      "Loss sim: [0.13535255193710327]\n",
      "Epoch: 150\n"
     ]
    },
    {
     "name": "stderr",
     "output_type": "stream",
     "text": [
      "\n"
     ]
    },
    {
     "name": "stdout",
     "output_type": "stream",
     "text": [
      "radius 0.40569413\n"
     ]
    },
    {
     "name": "stderr",
     "output_type": "stream",
     "text": [
      "Loss dist: 0.38441282510757446: 100%|██████████| 1/1 [00:00<00:00, 12.45it/s]"
     ]
    },
    {
     "name": "stdout",
     "output_type": "stream",
     "text": [
      "Loss sim: [0.13534706830978394]\n",
      "Epoch: 151\n"
     ]
    },
    {
     "name": "stderr",
     "output_type": "stream",
     "text": [
      "\n"
     ]
    },
    {
     "name": "stdout",
     "output_type": "stream",
     "text": [
      "radius 0.4057106\n"
     ]
    },
    {
     "name": "stderr",
     "output_type": "stream",
     "text": [
      "Loss dist: 0.3844029903411865: 100%|██████████| 1/1 [00:00<00:00, 12.43it/s]\n"
     ]
    },
    {
     "name": "stdout",
     "output_type": "stream",
     "text": [
      "Loss sim: [0.13534200191497803]\n",
      "Epoch: 152\n",
      "radius 0.4057311\n"
     ]
    },
    {
     "name": "stderr",
     "output_type": "stream",
     "text": [
      "Loss dist: 0.38439399003982544: 100%|██████████| 1/1 [00:00<00:00, 12.24it/s]"
     ]
    },
    {
     "name": "stdout",
     "output_type": "stream",
     "text": [
      "Loss sim: [0.1353372037410736]\n",
      "Epoch: 153\n"
     ]
    },
    {
     "name": "stderr",
     "output_type": "stream",
     "text": [
      "\n"
     ]
    },
    {
     "name": "stdout",
     "output_type": "stream",
     "text": [
      "radius 0.40574986\n"
     ]
    },
    {
     "name": "stderr",
     "output_type": "stream",
     "text": [
      "Loss dist: 0.3843851685523987: 100%|██████████| 1/1 [00:00<00:00, 270.16it/s]\n"
     ]
    },
    {
     "name": "stdout",
     "output_type": "stream",
     "text": [
      "Loss sim: [0.1353326439857483]\n",
      "Epoch: 154\n",
      "radius 0.40576452\n"
     ]
    },
    {
     "name": "stderr",
     "output_type": "stream",
     "text": [
      "Loss dist: 0.3843781054019928: 100%|██████████| 1/1 [00:00<00:00, 176.16it/s]\n"
     ]
    },
    {
     "name": "stdout",
     "output_type": "stream",
     "text": [
      "Loss sim: [0.13532844185829163]\n",
      "Epoch: 155\n",
      "radius 0.40577972\n"
     ]
    },
    {
     "name": "stderr",
     "output_type": "stream",
     "text": [
      "Loss dist: 0.3843706250190735: 100%|██████████| 1/1 [00:00<00:00, 12.04it/s]\n"
     ]
    },
    {
     "name": "stdout",
     "output_type": "stream",
     "text": [
      "Loss sim: [0.13532453775405884]\n",
      "Epoch: 156\n",
      "radius 0.4057981\n"
     ]
    },
    {
     "name": "stderr",
     "output_type": "stream",
     "text": [
      "Loss dist: 0.38436412811279297: 100%|██████████| 1/1 [00:00<00:00, 12.40it/s]"
     ]
    },
    {
     "name": "stdout",
     "output_type": "stream",
     "text": [
      "Loss sim: [0.13532063364982605]\n",
      "Epoch: 157\n"
     ]
    },
    {
     "name": "stderr",
     "output_type": "stream",
     "text": [
      "\n"
     ]
    },
    {
     "name": "stdout",
     "output_type": "stream",
     "text": [
      "radius 0.40580857\n"
     ]
    },
    {
     "name": "stderr",
     "output_type": "stream",
     "text": [
      "Loss dist: 0.3843576908111572: 100%|██████████| 1/1 [00:00<00:00, 14.56it/s]"
     ]
    },
    {
     "name": "stdout",
     "output_type": "stream",
     "text": [
      "Loss sim: [0.13531717658042908]\n",
      "Epoch: 158\n"
     ]
    },
    {
     "name": "stderr",
     "output_type": "stream",
     "text": [
      "\n"
     ]
    },
    {
     "name": "stdout",
     "output_type": "stream",
     "text": [
      "radius 0.40582344\n"
     ]
    },
    {
     "name": "stderr",
     "output_type": "stream",
     "text": [
      "Loss dist: 0.38435089588165283: 100%|██████████| 1/1 [00:00<00:00, 12.50it/s]"
     ]
    },
    {
     "name": "stdout",
     "output_type": "stream",
     "text": [
      "Loss sim: [0.13531376421451569]\n",
      "Epoch: 159\n"
     ]
    },
    {
     "name": "stderr",
     "output_type": "stream",
     "text": [
      "\n"
     ]
    },
    {
     "name": "stdout",
     "output_type": "stream",
     "text": [
      "radius 0.4058354\n"
     ]
    },
    {
     "name": "stderr",
     "output_type": "stream",
     "text": [
      "Loss dist: 0.38434603810310364: 100%|██████████| 1/1 [00:00<00:00, 12.42it/s]"
     ]
    },
    {
     "name": "stdout",
     "output_type": "stream",
     "text": [
      "Loss sim: [0.1353106051683426]\n",
      "Epoch: 160\n"
     ]
    },
    {
     "name": "stderr",
     "output_type": "stream",
     "text": [
      "\n"
     ]
    },
    {
     "name": "stdout",
     "output_type": "stream",
     "text": [
      "radius 0.40584844\n"
     ]
    },
    {
     "name": "stderr",
     "output_type": "stream",
     "text": [
      "Loss dist: 0.38434144854545593: 100%|██████████| 1/1 [00:00<00:00, 12.35it/s]\n"
     ]
    },
    {
     "name": "stdout",
     "output_type": "stream",
     "text": [
      "Loss sim: [0.13530753552913666]\n",
      "Epoch: 161\n",
      "radius 0.4058583\n"
     ]
    },
    {
     "name": "stderr",
     "output_type": "stream",
     "text": [
      "Loss dist: 0.38433390855789185: 100%|██████████| 1/1 [00:00<00:00, 263.33it/s]\n"
     ]
    },
    {
     "name": "stdout",
     "output_type": "stream",
     "text": [
      "Loss sim: [0.1353047639131546]\n",
      "Epoch: 162\n",
      "radius 0.4058687\n"
     ]
    },
    {
     "name": "stderr",
     "output_type": "stream",
     "text": [
      "Loss dist: 0.3843313157558441: 100%|██████████| 1/1 [00:00<00:00, 251.40it/s]"
     ]
    },
    {
     "name": "stdout",
     "output_type": "stream",
     "text": [
      "Loss sim: [0.13530202209949493]\n",
      "Epoch: 163\n"
     ]
    },
    {
     "name": "stderr",
     "output_type": "stream",
     "text": [
      "\n"
     ]
    },
    {
     "name": "stdout",
     "output_type": "stream",
     "text": [
      "radius 0.4058797\n"
     ]
    },
    {
     "name": "stderr",
     "output_type": "stream",
     "text": [
      "Loss dist: 0.3843232989311218: 100%|██████████| 1/1 [00:00<00:00, 252.23it/s]\n"
     ]
    },
    {
     "name": "stdout",
     "output_type": "stream",
     "text": [
      "Loss sim: [0.13529953360557556]\n",
      "Epoch: 164\n",
      "radius 0.40588892\n"
     ]
    },
    {
     "name": "stderr",
     "output_type": "stream",
     "text": [
      "Loss dist: 0.3843178153038025: 100%|██████████| 1/1 [00:00<00:00, 12.56it/s]\n"
     ]
    },
    {
     "name": "stdout",
     "output_type": "stream",
     "text": [
      "Loss sim: [0.13529706001281738]\n",
      "Epoch: 165\n",
      "radius 0.40589616\n"
     ]
    },
    {
     "name": "stderr",
     "output_type": "stream",
     "text": [
      "Loss dist: 0.3843185305595398: 100%|██████████| 1/1 [00:00<00:00, 12.30it/s]\n"
     ]
    },
    {
     "name": "stdout",
     "output_type": "stream",
     "text": [
      "Loss sim: [0.13529473543167114]\n",
      "Epoch: 166\n",
      "radius 0.40590534\n"
     ]
    },
    {
     "name": "stderr",
     "output_type": "stream",
     "text": [
      "Loss dist: 0.38431215286254883: 100%|██████████| 1/1 [00:00<00:00, 12.48it/s]\n"
     ]
    },
    {
     "name": "stdout",
     "output_type": "stream",
     "text": [
      "Loss sim: [0.13529260456562042]\n",
      "Epoch: 167\n",
      "radius 0.40591604\n"
     ]
    },
    {
     "name": "stderr",
     "output_type": "stream",
     "text": [
      "Loss dist: 0.3843095600605011: 100%|██████████| 1/1 [00:00<00:00, 304.73it/s]\n"
     ]
    },
    {
     "name": "stdout",
     "output_type": "stream",
     "text": [
      "Loss sim: [0.13529041409492493]\n",
      "Epoch: 168\n",
      "radius 0.40592286\n"
     ]
    },
    {
     "name": "stderr",
     "output_type": "stream",
     "text": [
      "Loss dist: 0.38430583477020264: 100%|██████████| 1/1 [00:00<00:00, 12.20it/s]\n"
     ]
    },
    {
     "name": "stdout",
     "output_type": "stream",
     "text": [
      "Loss sim: [0.1352885365486145]\n",
      "Epoch: 169\n",
      "radius 0.40592915\n"
     ]
    },
    {
     "name": "stderr",
     "output_type": "stream",
     "text": [
      "Loss dist: 0.3843030631542206: 100%|██████████| 1/1 [00:00<00:00, 12.50it/s]\n"
     ]
    },
    {
     "name": "stdout",
     "output_type": "stream",
     "text": [
      "Loss sim: [0.13528670370578766]\n",
      "Epoch: 170\n",
      "radius 0.40593836\n"
     ]
    },
    {
     "name": "stderr",
     "output_type": "stream",
     "text": [
      "Loss dist: 0.38429921865463257: 100%|██████████| 1/1 [00:00<00:00, 12.37it/s]\n"
     ]
    },
    {
     "name": "stdout",
     "output_type": "stream",
     "text": [
      "Loss sim: [0.1352849304676056]\n",
      "Epoch: 171\n",
      "radius 0.40594313\n"
     ]
    },
    {
     "name": "stderr",
     "output_type": "stream",
     "text": [
      "Loss dist: 0.38429591059684753: 100%|██████████| 1/1 [00:00<00:00, 12.33it/s]\n"
     ]
    },
    {
     "name": "stdout",
     "output_type": "stream",
     "text": [
      "Loss sim: [0.13528324663639069]\n",
      "Epoch: 172\n",
      "radius 0.40594968\n"
     ]
    },
    {
     "name": "stderr",
     "output_type": "stream",
     "text": [
      "Loss dist: 0.38429179787635803: 100%|██████████| 1/1 [00:00<00:00, 209.25it/s]\n"
     ]
    },
    {
     "name": "stdout",
     "output_type": "stream",
     "text": [
      "Loss sim: [0.13528163731098175]\n",
      "Epoch: 173\n",
      "radius 0.4059577\n"
     ]
    },
    {
     "name": "stderr",
     "output_type": "stream",
     "text": [
      "Loss dist: 0.3842910826206207: 100%|██████████| 1/1 [00:00<00:00, 229.89it/s]\n"
     ]
    },
    {
     "name": "stdout",
     "output_type": "stream",
     "text": [
      "Loss sim: [0.1352800875902176]\n",
      "Epoch: 174\n",
      "radius 0.4059645\n"
     ]
    },
    {
     "name": "stderr",
     "output_type": "stream",
     "text": [
      "Loss dist: 0.38428664207458496: 100%|██████████| 1/1 [00:00<00:00, 223.08it/s]\n"
     ]
    },
    {
     "name": "stdout",
     "output_type": "stream",
     "text": [
      "Loss sim: [0.1352786421775818]\n",
      "Epoch: 175\n",
      "radius 0.4059681\n"
     ]
    },
    {
     "name": "stderr",
     "output_type": "stream",
     "text": [
      "Loss dist: 0.3842848539352417: 100%|██████████| 1/1 [00:00<00:00, 12.47it/s]\n"
     ]
    },
    {
     "name": "stdout",
     "output_type": "stream",
     "text": [
      "Loss sim: [0.13527724146842957]\n",
      "Epoch: 176\n",
      "radius 0.40597436\n"
     ]
    },
    {
     "name": "stderr",
     "output_type": "stream",
     "text": [
      "Loss dist: 0.3842831552028656: 100%|██████████| 1/1 [00:00<00:00, 12.35it/s]\n"
     ]
    },
    {
     "name": "stdout",
     "output_type": "stream",
     "text": [
      "Loss sim: [0.1352759301662445]\n",
      "Epoch: 177\n",
      "radius 0.40597942\n"
     ]
    },
    {
     "name": "stderr",
     "output_type": "stream",
     "text": [
      "Loss dist: 0.3842787742614746: 100%|██████████| 1/1 [00:00<00:00, 12.36it/s]\n"
     ]
    },
    {
     "name": "stdout",
     "output_type": "stream",
     "text": [
      "Loss sim: [0.13527460396289825]\n",
      "Epoch: 178\n",
      "radius 0.40598446\n"
     ]
    },
    {
     "name": "stderr",
     "output_type": "stream",
     "text": [
      "Loss dist: 0.38427793979644775: 100%|██████████| 1/1 [00:00<00:00, 12.34it/s]\n"
     ]
    },
    {
     "name": "stdout",
     "output_type": "stream",
     "text": [
      "Loss sim: [0.13527338206768036]\n",
      "Epoch: 179\n",
      "radius 0.40598834\n"
     ]
    },
    {
     "name": "stderr",
     "output_type": "stream",
     "text": [
      "Loss dist: 0.38427650928497314: 100%|██████████| 1/1 [00:00<00:00, 12.58it/s]\n"
     ]
    },
    {
     "name": "stdout",
     "output_type": "stream",
     "text": [
      "Loss sim: [0.13527241349220276]\n",
      "Epoch: 180\n",
      "radius 0.4059916\n"
     ]
    },
    {
     "name": "stderr",
     "output_type": "stream",
     "text": [
      "Loss dist: 0.3842751979827881: 100%|██████████| 1/1 [00:00<00:00, 12.34it/s]\n"
     ]
    },
    {
     "name": "stdout",
     "output_type": "stream",
     "text": [
      "Loss sim: [0.13527131080627441]\n",
      "Epoch: 181\n",
      "radius 0.40599582\n"
     ]
    },
    {
     "name": "stderr",
     "output_type": "stream",
     "text": [
      "Loss dist: 0.38427218794822693: 100%|██████████| 1/1 [00:00<00:00, 12.33it/s]\n"
     ]
    },
    {
     "name": "stdout",
     "output_type": "stream",
     "text": [
      "Loss sim: [0.13527028262615204]\n",
      "Epoch: 182\n",
      "radius 0.4060023\n"
     ]
    },
    {
     "name": "stderr",
     "output_type": "stream",
     "text": [
      "Loss dist: 0.38426855206489563: 100%|██████████| 1/1 [00:00<00:00, 218.80it/s]\n"
     ]
    },
    {
     "name": "stdout",
     "output_type": "stream",
     "text": [
      "Loss sim: [0.13526922464370728]\n",
      "Epoch: 183\n",
      "radius 0.40600616\n"
     ]
    },
    {
     "name": "stderr",
     "output_type": "stream",
     "text": [
      "Loss dist: 0.3842673599720001: 100%|██████████| 1/1 [00:00<00:00, 12.61it/s]\n"
     ]
    },
    {
     "name": "stdout",
     "output_type": "stream",
     "text": [
      "Loss sim: [0.13526831567287445]\n",
      "Epoch: 184\n",
      "radius 0.4060077\n"
     ]
    },
    {
     "name": "stderr",
     "output_type": "stream",
     "text": [
      "Loss dist: 0.38426682353019714: 100%|██████████| 1/1 [00:00<00:00, 12.29it/s]\n"
     ]
    },
    {
     "name": "stdout",
     "output_type": "stream",
     "text": [
      "Loss sim: [0.13526751101016998]\n",
      "Epoch: 185\n",
      "radius 0.406011\n"
     ]
    },
    {
     "name": "stderr",
     "output_type": "stream",
     "text": [
      "Loss dist: 0.38426339626312256: 100%|██████████| 1/1 [00:00<00:00, 12.34it/s]\n"
     ]
    },
    {
     "name": "stdout",
     "output_type": "stream",
     "text": [
      "Loss sim: [0.13526667654514313]\n",
      "Epoch: 186\n",
      "radius 0.40601337\n"
     ]
    },
    {
     "name": "stderr",
     "output_type": "stream",
     "text": [
      "Loss dist: 0.3842615783214569: 100%|██████████| 1/1 [00:00<00:00, 12.38it/s]\n"
     ]
    },
    {
     "name": "stdout",
     "output_type": "stream",
     "text": [
      "Loss sim: [0.13526585698127747]\n",
      "Epoch: 187\n",
      "radius 0.40601957\n"
     ]
    },
    {
     "name": "stderr",
     "output_type": "stream",
     "text": [
      "Loss dist: 0.3842622935771942: 100%|██████████| 1/1 [00:00<00:00, 247.96it/s]\n"
     ]
    },
    {
     "name": "stdout",
     "output_type": "stream",
     "text": [
      "Loss sim: [0.13526499271392822]\n",
      "Epoch: 188\n",
      "radius 0.40602225\n"
     ]
    },
    {
     "name": "stderr",
     "output_type": "stream",
     "text": [
      "Loss dist: 0.3842572569847107: 100%|██████████| 1/1 [00:00<00:00, 271.69it/s]\n"
     ]
    },
    {
     "name": "stdout",
     "output_type": "stream",
     "text": [
      "Loss sim: [0.1352643221616745]\n",
      "Epoch: 189\n",
      "radius 0.40602404\n"
     ]
    },
    {
     "name": "stderr",
     "output_type": "stream",
     "text": [
      "Loss dist: 0.38425877690315247: 100%|██████████| 1/1 [00:00<00:00, 12.45it/s]\n"
     ]
    },
    {
     "name": "stdout",
     "output_type": "stream",
     "text": [
      "Loss sim: [0.13526366651058197]\n",
      "Epoch: 190\n",
      "radius 0.40602675\n"
     ]
    },
    {
     "name": "stderr",
     "output_type": "stream",
     "text": [
      "Loss dist: 0.3842574656009674: 100%|██████████| 1/1 [00:00<00:00, 12.35it/s]\n"
     ]
    },
    {
     "name": "stdout",
     "output_type": "stream",
     "text": [
      "Loss sim: [0.13526293635368347]\n",
      "Epoch: 191\n",
      "radius 0.40602708\n"
     ]
    },
    {
     "name": "stderr",
     "output_type": "stream",
     "text": [
      "Loss dist: 0.38425955176353455: 100%|██████████| 1/1 [00:00<00:00, 12.43it/s]"
     ]
    },
    {
     "name": "stdout",
     "output_type": "stream",
     "text": [
      "Loss sim: [0.1352623850107193]\n",
      "Epoch: 192\n"
     ]
    },
    {
     "name": "stderr",
     "output_type": "stream",
     "text": [
      "\n"
     ]
    },
    {
     "name": "stdout",
     "output_type": "stream",
     "text": [
      "radius 0.40603063\n"
     ]
    },
    {
     "name": "stderr",
     "output_type": "stream",
     "text": [
      "Loss dist: 0.3842555284500122: 100%|██████████| 1/1 [00:00<00:00, 12.04it/s]\n"
     ]
    },
    {
     "name": "stdout",
     "output_type": "stream",
     "text": [
      "Loss sim: [0.13526172935962677]\n",
      "Epoch: 193\n",
      "radius 0.40603387\n"
     ]
    },
    {
     "name": "stderr",
     "output_type": "stream",
     "text": [
      "Loss dist: 0.3842517137527466: 100%|██████████| 1/1 [00:00<00:00, 12.35it/s]"
     ]
    },
    {
     "name": "stdout",
     "output_type": "stream",
     "text": [
      "Loss sim: [0.13526111841201782]\n",
      "Epoch: 194\n"
     ]
    },
    {
     "name": "stderr",
     "output_type": "stream",
     "text": [
      "\n"
     ]
    },
    {
     "name": "stdout",
     "output_type": "stream",
     "text": [
      "radius 0.406036\n"
     ]
    },
    {
     "name": "stderr",
     "output_type": "stream",
     "text": [
      "Loss dist: 0.38425350189208984: 100%|██████████| 1/1 [00:00<00:00, 225.37it/s]\n"
     ]
    },
    {
     "name": "stdout",
     "output_type": "stream",
     "text": [
      "Loss sim: [0.13526061177253723]\n",
      "Epoch: 195\n",
      "radius 0.40603778\n"
     ]
    },
    {
     "name": "stderr",
     "output_type": "stream",
     "text": [
      "Loss dist: 0.3842534124851227: 100%|██████████| 1/1 [00:00<00:00, 12.34it/s]\n"
     ]
    },
    {
     "name": "stdout",
     "output_type": "stream",
     "text": [
      "Loss sim: [0.13526012003421783]\n",
      "Epoch: 196\n",
      "radius 0.40603837\n"
     ]
    },
    {
     "name": "stderr",
     "output_type": "stream",
     "text": [
      "Loss dist: 0.3842533528804779: 100%|██████████| 1/1 [00:00<00:00, 12.37it/s]\n"
     ]
    },
    {
     "name": "stdout",
     "output_type": "stream",
     "text": [
      "Loss sim: [0.13525964319705963]\n",
      "Epoch: 197\n",
      "radius 0.4060422\n"
     ]
    },
    {
     "name": "stderr",
     "output_type": "stream",
     "text": [
      "Loss dist: 0.3842489421367645: 100%|██████████| 1/1 [00:00<00:00, 12.40it/s]\n"
     ]
    },
    {
     "name": "stdout",
     "output_type": "stream",
     "text": [
      "Loss sim: [0.13525915145874023]\n",
      "Epoch: 198\n",
      "radius 0.4060437\n"
     ]
    },
    {
     "name": "stderr",
     "output_type": "stream",
     "text": [
      "Loss dist: 0.3842502236366272: 100%|██████████| 1/1 [00:00<00:00, 12.35it/s]\n"
     ]
    },
    {
     "name": "stdout",
     "output_type": "stream",
     "text": [
      "Loss sim: [0.13525861501693726]\n",
      "Epoch: 199\n",
      "radius 0.40604755\n"
     ]
    },
    {
     "name": "stderr",
     "output_type": "stream",
     "text": [
      "Loss dist: 0.384249210357666: 100%|██████████| 1/1 [00:00<00:00, 263.53it/s]"
     ]
    },
    {
     "name": "stdout",
     "output_type": "stream",
     "text": [
      "Loss sim: [0.13525818288326263]\n"
     ]
    },
    {
     "name": "stderr",
     "output_type": "stream",
     "text": [
      "\n"
     ]
    }
   ],
   "source": [
    "n_epoch_steps = 200\n",
    "n_epochs = 1\n",
    "# total epochs = n_epoch_steps * n_epochs\n",
    "batch_size = N\n",
    "lr = 1e-2\n",
    "# Input shape must be a pytorch TENSOR with shape (n_samples, in_channels, len_ts)\n",
    "X_train_tensor = tensor(X_train_anomaly, dtype=torch.float).contiguous().transpose(1,2)\n",
    "aucs = []\n",
    "bas = []\n",
    "f1s = []\n",
    "nu = 0.15\n",
    "C = 1 / (N * nu)\n",
    "l1 = 1\n",
    "loss_sim = DiscrepancySimilarity()\n",
    "extractor = LearningShapelets(len_shapelets=L, num_shapelets=K, in_channels=n_channels, C=C, verbose=1, to_cuda=False, l1=l1, loss_sim=loss_sim)\n",
    "extractor.set_shapelet_weights(clusters_centers)\n",
    "optimizer = torch.optim.Adagrad(extractor.model.parameters(), lr=lr)\n",
    "extractor.set_optimizer(optimizer)\n",
    "\n",
    "extractor.compute_radius(X_train_tensor, tol=1e-7)\n",
    "\n",
    "losses = []\n",
    "loss_sim = []\n",
    "for epoch in range(n_epoch_steps):\n",
    "    print(f'Epoch: {epoch}')\n",
    "    extractor.compute_radius(X_train_tensor, tol=1e-7)\n",
    "    print('radius', extractor.loss_func.get_radius())\n",
    "    current_loss_dist, current_loss_sim =  extractor.fit(X_train_tensor, epochs=n_epochs, batch_size=batch_size)\n",
    "    # current_loss_dist =  extractor.fit(X_train_tensor, epochs=n_epochs, batch_size=batch_size)\n",
    "    losses += [current_loss_dist]\n",
    "    loss_sim += [current_loss_sim]\n",
    "    print(f'Loss sim: {current_loss_sim}')"
   ]
  },
  {
   "cell_type": "markdown",
   "metadata": {},
   "source": [
    "Loss Decay:"
   ]
  },
  {
   "cell_type": "code",
   "execution_count": 25,
   "metadata": {},
   "outputs": [
    {
     "data": {
      "image/png": "[encoded data removed]",
      "text/plain": [
       "<Figure size 432x288 with 1 Axes>"
      ]
     },
     "metadata": {
      "needs_background": "light"
     },
     "output_type": "display_data"
    }
   ],
   "source": [
    "plt.plot(losses, color='blue')\n",
    "plt.title(\"Loss over Training Steps\", fontweight=\"bold\")\n",
    "plt.xlabel(\"training step\")\n",
    "plt.ylabel(\"loss\")\n",
    "plt.show()"
   ]
  },
  {
   "cell_type": "markdown",
   "metadata": {},
   "source": [
    "Shapelets:"
   ]
  },
  {
   "cell_type": "code",
   "execution_count": 32,
   "metadata": {},
   "outputs": [
    {
     "name": "stdout",
     "output_type": "stream",
     "text": [
      "Type and shape of the shapelets in output <class 'numpy.ndarray'> (3, 38, 1)\n"
     ]
    },
    {
     "data": {
      "image/png": "[encoded data removed]",
      "text/plain": [
       "<Figure size 432x288 with 1 Axes>"
      ]
     },
     "metadata": {
      "needs_background": "light"
     },
     "output_type": "display_data"
    }
   ],
   "source": [
    "# plot the shapelets\n",
    "S = extractor.get_shapelets()\n",
    "# use moveaxis because the shapelets returned have shape (num_shapelets, in_channels, shapelets_size)\n",
    "S = np.moveaxis(S, 1, 2)\n",
    "print('Type and shape of the shapelets in output', type(S),  S.shape)\n",
    "\n",
    "plt.figure()\n",
    "for i in range(len(S)):\n",
    "    shap = S[i,:,]\n",
    "    plt.plot(shap, label=f'shapelet{i+1}')\n",
    "plt.legend()\n",
    "plt.title('The extracted shapelets', fontweight=\"bold\")\n",
    "plt.show()\n"
   ]
  },
  {
   "cell_type": "markdown",
   "metadata": {},
   "source": [
    "Transform train and test set:"
   ]
  },
  {
   "cell_type": "code",
   "execution_count": 33,
   "metadata": {},
   "outputs": [
    {
     "name": "stdout",
     "output_type": "stream",
     "text": [
      "Type and shape of transformed train data <class 'numpy.ndarray'> (84, 3)\n",
      "Type and shape of transformed test data <class 'numpy.ndarray'> (81, 3)\n"
     ]
    }
   ],
   "source": [
    "# tranform method takes in input a tensor of shape (n_samples, in_channels, len_ts) \n",
    "# and outputs a numpy array of shape (n_samples, n_shapelets)\n",
    "X_train_transform = extractor.transform(X_train_tensor)\n",
    "X_valid_tensor = tensor(X_valid_anomaly, dtype=torch.float).contiguous().transpose(1,2)\n",
    "X_valid_transform = extractor.transform(X_valid_tensor)\n",
    "X_test_tensor = tensor(X_test_anomaly, dtype=torch.float).contiguous().transpose(1,2)\n",
    "X_test_transform = extractor.transform(X_test_tensor)\n",
    "\n",
    "# check if type and shape are correct:\n",
    "print('Type and shape of transformed train data', type(X_train_transform),  X_train_transform.shape)\n",
    "print('Type and shape of transformed test data', type(X_test_transform),  X_test_transform.shape)"
   ]
  },
  {
   "cell_type": "markdown",
   "metadata": {},
   "source": [
    "## Anomaly detection using SVDD"
   ]
  },
  {
   "cell_type": "markdown",
   "metadata": {},
   "source": [
    "Choose how many extracted shapelets to take (2 for visualization purposes):"
   ]
  },
  {
   "cell_type": "code",
   "execution_count": 34,
   "metadata": {},
   "outputs": [
    {
     "name": "stdout",
     "output_type": "stream",
     "text": [
      "13 support vectors out of 84 points\n",
      "Solution found with center in 0.0 and radius 0.406049907207489\n",
      "Test balanced accuracy: 0.6195652173913044\n",
      "Test F1 score: 0.5656565656565656\n"
     ]
    },
    {
     "data": {
      "image/png": "[encoded data removed]",
      "text/plain": [
       "<Figure size 432x288 with 2 Axes>"
      ]
     },
     "metadata": {
      "needs_background": "light"
     },
     "output_type": "display_data"
    },
    {
     "name": "stdout",
     "output_type": "stream",
     "text": [
      "Test AUC: 0.6280193236714976\n",
      "valid balanced accuracy: 0.6967592592592593\n",
      "valid F1 score: 0.6666666666666667\n",
      "Valid AUC: 0.8287037037037037\n"
     ]
    }
   ],
   "source": [
    "svdd = SVDD(C=C, zero_center=True, tol=1e-6, verbose=True, show_progress=False)\n",
    "\n",
    "# fit the model\n",
    "svdd.fit(X_train_transform)\n",
    "\n",
    "# BALANCED ACCURACY\n",
    "y_test_predict = svdd.predict(X_test_transform)\n",
    "test_ba = balanced_accuracy_score(y_test_anomaly, y_test_predict)\n",
    "print(\"Test balanced accuracy:\", test_ba)\n",
    "# F1 score\n",
    "f1_test = f1_score(y_test_anomaly, y_test_predict, pos_label=-1)\n",
    "print(\"Test F1 score:\", f1_test)\n",
    "\n",
    "# Confusion matrix for test \n",
    "cm = confusion_matrix(y_test_anomaly, y_test_predict)\n",
    "cm_display = ConfusionMatrixDisplay(cm, display_labels=[-1,1]).plot()\n",
    "plt.show()\n",
    "\n",
    "# AUC\n",
    "y_test_scores = -svdd.decision_function(X_test_transform)\n",
    "fpr, tpr, _ = roc_curve(y_test_anomaly, y_test_scores, pos_label=-1)\n",
    "auc_test = auc(fpr, tpr)\n",
    "print(\"Test AUC:\", auc_test)\n",
    "\n",
    "y_valid_predict = svdd.predict(X_valid_transform)\n",
    "valid_ba = balanced_accuracy_score(y_valid_anomaly, y_valid_predict)\n",
    "print(\"valid balanced accuracy:\", valid_ba)\n",
    "# F1 score\n",
    "f1_valid = f1_score(y_valid_anomaly, y_valid_predict, pos_label=-1)\n",
    "print(\"valid F1 score:\", f1_valid)\n",
    "\n",
    "y_valid_scores = -svdd.decision_function(X_valid_transform)\n",
    "fpr, tpr, _ = roc_curve(y_valid_anomaly, y_valid_scores, pos_label=-1)\n",
    "auc_valid = auc(fpr, tpr)\n",
    "print(\"Valid AUC:\", auc_valid)"
   ]
  },
  {
   "cell_type": "markdown",
   "metadata": {},
   "source": [
    "EVALUATE the prediction:"
   ]
  },
  {
   "cell_type": "code",
   "execution_count": 35,
   "metadata": {},
   "outputs": [
    {
     "name": "stdout",
     "output_type": "stream",
     "text": [
      "SVDD train balanced accuracy: 0.81875\n",
      "SVDD train AUC: 0.9125\n",
      "SVDD train F1 score: 0.9342105263157895\n"
     ]
    }
   ],
   "source": [
    "## TRAIN\n",
    "# BALANCED ACCURACY\n",
    "y_train_predict = svdd.predict(X_train_transform)\n",
    "train_ba = balanced_accuracy_score(y_train_anomaly, y_train_predict)\n",
    "print(\"SVDD train balanced accuracy:\", train_ba)\n",
    "\n",
    "# AUC\n",
    "y_train_scores = svdd.decision_function(X_train_transform)\n",
    "auc_train = roc_auc_score(y_train_anomaly, y_train_scores)\n",
    "print(\"SVDD train AUC:\", auc_train)\n",
    "\n",
    "# F1 score\n",
    "f1_train = f1_score(y_train_anomaly, y_train_predict)\n",
    "print(\"SVDD train F1 score:\", f1_train)"
   ]
  },
  {
   "cell_type": "code",
   "execution_count": 36,
   "metadata": {},
   "outputs": [
    {
     "name": "stdout",
     "output_type": "stream",
     "text": [
      "SVDD test balanced accuracy: 0.6195652173913044\n",
      "SVDD test AUC: 0.6280193236714976\n",
      "SVDD train F1 score: 0.9342105263157895\n"
     ]
    }
   ],
   "source": [
    "## TEST\n",
    "# BALANCED ACCURACY\n",
    "y_test_predict = svdd.predict(X_test_transform)\n",
    "test_ba = balanced_accuracy_score(y_test_anomaly, y_test_predict)\n",
    "print(\"SVDD test balanced accuracy:\", test_ba)\n",
    "\n",
    "# AUC\n",
    "y_test_scores = svdd.decision_function(X_test_transform)\n",
    "auc_test = roc_auc_score(y_test_anomaly, y_test_scores)\n",
    "print(\"SVDD test AUC:\", auc_test)\n",
    "\n",
    "# F1 score\n",
    "f1_train = f1_score(y_train_anomaly, y_train_predict)\n",
    "print(\"SVDD train F1 score:\", f1_train)"
   ]
  },
  {
   "cell_type": "markdown",
   "metadata": {},
   "source": [
    "### PLOTS (first two coordinates in shapelet transformed space):"
   ]
  },
  {
   "cell_type": "markdown",
   "metadata": {},
   "source": [
    "NOTE: if were taken more than 2 shapelets the SVDD boundaries are plotted but they do not indicate the correct boundary in more than two dimension of the true points (the points are collapsed in the plane as if their other coordinates were equal to zero)"
   ]
  },
  {
   "cell_type": "markdown",
   "metadata": {},
   "source": [
    "TRAIN DATA and SVDD boundary"
   ]
  },
  {
   "cell_type": "code",
   "execution_count": 40,
   "metadata": {},
   "outputs": [
    {
     "data": {
      "image/png": "[encoded data removed]",
      "text/plain": [
       "<Figure size 432x288 with 1 Axes>"
      ]
     },
     "metadata": {
      "needs_background": "light"
     },
     "output_type": "display_data"
    }
   ],
   "source": [
    "x_max = max(X_train_transform[:,0])+0.01\n",
    "y_max = max(X_train_transform[:,1])+0.01\n",
    "xx, yy = np.meshgrid(np.linspace(-0.1, x_max, 500), np.linspace(-0.1, y_max, 500))\n",
    "Z = svdd.decision_function(np.c_[xx.ravel(), yy.ravel()])\n",
    "Z = Z.reshape(xx.shape)\n",
    "pIndex_train = y_train_anomaly == 1\n",
    "nIndex_train = y_train_anomaly == -1\n",
    "\n",
    "\n",
    "plt.figure()\n",
    "plt.title(f\"{data_name} (train)\", fontweight=\"bold\")\n",
    "\n",
    "plt.contourf(xx, yy, Z, levels=[0, Z.max()], colors=\"palevioletred\")\n",
    "plt.scatter(X_train_transform[pIndex_train, 0], X_train_transform[pIndex_train, 1], facecolor='C0', marker='o', s=100, linewidths=2,\n",
    "                     edgecolor='black', zorder=2, label=\"Normal\")\n",
    "\n",
    "plt.scatter(X_train_transform[nIndex_train, 0], X_train_transform[nIndex_train, 1], facecolor='C3', marker='o', s=100, linewidths=2,\n",
    "                     edgecolor='black', zorder=2, label=\"Anomalies\")\n",
    "\n",
    "plt.legend(ncol=1, loc='upper left', edgecolor='black',\n",
    "                    markerscale=1.2, fancybox=True)\n",
    "plt.xlim((-0.01, x_max + 0.1))\n",
    "plt.ylim((-0.01, y_max + 0.1))\n",
    "plt.ylabel(\"shapelet 2\")\n",
    "plt.xlabel(\"shapelet 1\")\n",
    "plt.show()"
   ]
  },
  {
   "cell_type": "markdown",
   "metadata": {},
   "source": [
    "TEST DATA and SVDD boundary"
   ]
  },
  {
   "cell_type": "code",
   "execution_count": 41,
   "metadata": {},
   "outputs": [
    {
     "data": {
      "image/png": "[encoded data removed]",
      "text/plain": [
       "<Figure size 432x288 with 1 Axes>"
      ]
     },
     "metadata": {
      "needs_background": "light"
     },
     "output_type": "display_data"
    }
   ],
   "source": [
    "x_max = max(X_test_transform[:,0])+0.01\n",
    "y_max = max(X_test_transform[:,1])+0.01\n",
    "xx, yy = np.meshgrid(np.linspace(-0.1, x_max, 500), np.linspace(-0.1, y_max, 500))\n",
    "Z = svdd.decision_function(np.c_[xx.ravel(), yy.ravel()])\n",
    "Z = Z.reshape(xx.shape)\n",
    "pIndex_test = y_test_anomaly == 1\n",
    "nIndex_test = y_test_anomaly == -1\n",
    "auc_test = np.around(auc_test, 3)\n",
    "plt.figure()\n",
    "plt.title(f\"{data_name} (test)\", fontweight=\"bold\")\n",
    "\n",
    "plt.contourf(xx, yy, Z, levels=[0, Z.max()], colors=\"palevioletred\")\n",
    "plt.scatter(X_test_transform[pIndex_test, 0], X_test_transform[pIndex_test, 1], facecolor='C0', marker='o', s=100, linewidths=2,\n",
    "                     edgecolor='black', zorder=2, label=\"Normal\")\n",
    "\n",
    "plt.scatter(X_test_transform[nIndex_test, 0], X_test_transform[nIndex_test, 1], facecolor='C3', marker='o', s=100, linewidths=2,\n",
    "                     edgecolor='black', zorder=2, label=\"Anomalies\")\n",
    "\n",
    "plt.legend(ncol=1, loc='upper left', edgecolor='black',\n",
    "                     markerscale=1.2, fancybox=True)\n",
    "\n",
    "plt.xlim((-0.01, y_max + 0.1))\n",
    "plt.ylim((-0.01, y_max + 0.1))\n",
    "plt.ylabel(\"shapelet 2\")\n",
    "plt.xlabel(\"shapelet 1\")\n",
    "plt.show()"
   ]
  }
 ],
 "metadata": {
  "kernelspec": {
   "display_name": "Python 3.6.13 ('ludo_env')",
   "language": "python",
   "name": "python3"
  },
  "language_info": {
   "codemirror_mode": {
    "name": "ipython",
    "version": 3
   },
   "file_extension": ".py",
   "mimetype": "text/x-python",
   "name": "python",
   "nbconvert_exporter": "python",
   "pygments_lexer": "ipython3",
   "version": "3.6.13"
  },
  "orig_nbformat": 4,
  "vscode": {
   "interpreter": {
    "hash": "ddac88a25be5187c58cc97c16ee39544cdf2ad84a4ec0b97da50bb1e8eba9915"
   }
  }
 },
 "nbformat": 4,
 "nbformat_minor": 2
}
